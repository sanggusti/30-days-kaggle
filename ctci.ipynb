{
  "nbformat": 4,
  "nbformat_minor": 0,
  "metadata": {
    "colab": {
      "name": "Untitled8.ipynb",
      "provenance": [],
      "authorship_tag": "ABX9TyMACC/pfijryjaK8XrMQgwL",
      "include_colab_link": true
    },
    "kernelspec": {
      "name": "python3",
      "display_name": "Python 3"
    },
    "language_info": {
      "name": "python"
    }
  },
  "cells": [
    {
      "cell_type": "markdown",
      "metadata": {
        "id": "view-in-github",
        "colab_type": "text"
      },
      "source": [
        "<a href=\"https://colab.research.google.com/github/sanggusti/30-days-kaggle/blob/main/ctci.ipynb\" target=\"_parent\"><img src=\"https://colab.research.google.com/assets/colab-badge.svg\" alt=\"Open In Colab\"/></a>"
      ]
    },
    {
      "cell_type": "code",
      "execution_count": 1,
      "metadata": {
        "id": "6WmJEtGHJgj6"
      },
      "outputs": [],
      "source": [
        "import unittest\n",
        "from copy import deepcopy"
      ]
    },
    {
      "cell_type": "code",
      "source": [
        "matrix = [1, 2, 3, 4, 0], [6, 0, 8, 9, 10], [11, 12, 13, 14, 15], [16, 0, 18, 19, 20], [21, 22, 23, 24, 25]"
      ],
      "metadata": {
        "id": "OkFgVbyNJllx"
      },
      "execution_count": 2,
      "outputs": []
    },
    {
      "cell_type": "code",
      "source": [
        "matrix[0]"
      ],
      "metadata": {
        "colab": {
          "base_uri": "https://localhost:8080/"
        },
        "id": "AKxOJy3VJ0HB",
        "outputId": "a1f5fc68-2c94-47f4-976a-4ee1a0848dac"
      },
      "execution_count": 3,
      "outputs": [
        {
          "output_type": "execute_result",
          "data": {
            "text/plain": [
              "[1, 2, 3, 4, 0]"
            ]
          },
          "metadata": {},
          "execution_count": 3
        }
      ]
    },
    {
      "cell_type": "code",
      "source": [
        "enumerate(matrix)"
      ],
      "metadata": {
        "colab": {
          "base_uri": "https://localhost:8080/"
        },
        "id": "rlgR3awEJ1so",
        "outputId": "d41746d0-cc6e-4ee2-f8e6-315d3af1727a"
      },
      "execution_count": 4,
      "outputs": [
        {
          "output_type": "execute_result",
          "data": {
            "text/plain": [
              "<enumerate at 0x7f5cc4cb1aa0>"
            ]
          },
          "metadata": {},
          "execution_count": 4
        }
      ]
    },
    {
      "cell_type": "code",
      "source": [
        "l = enumerate(matrix)\n",
        "print(l)"
      ],
      "metadata": {
        "colab": {
          "base_uri": "https://localhost:8080/"
        },
        "id": "NSG5g8SGJ6ac",
        "outputId": "7d7dc902-2dc9-4f82-fd84-556a42b3639f"
      },
      "execution_count": 5,
      "outputs": [
        {
          "output_type": "stream",
          "name": "stdout",
          "text": [
            "<enumerate object at 0x7f5cc4c11dc0>\n"
          ]
        }
      ]
    },
    {
      "cell_type": "code",
      "source": [
        "for i in l:\n",
        "  print(i)"
      ],
      "metadata": {
        "colab": {
          "base_uri": "https://localhost:8080/"
        },
        "id": "6s2EEUtnJ_ce",
        "outputId": "aff80654-1da5-49fd-c87f-b6629fecae63"
      },
      "execution_count": 7,
      "outputs": [
        {
          "output_type": "stream",
          "name": "stdout",
          "text": [
            "(0, [1, 2, 3, 4, 0])\n",
            "(1, [6, 0, 8, 9, 10])\n",
            "(2, [11, 12, 13, 14, 15])\n",
            "(3, [16, 0, 18, 19, 20])\n",
            "(4, [21, 22, 23, 24, 25])\n"
          ]
        }
      ]
    },
    {
      "cell_type": "code",
      "source": [
        "len(matrix[0])"
      ],
      "metadata": {
        "colab": {
          "base_uri": "https://localhost:8080/"
        },
        "id": "k6U8jK3mNA6F",
        "outputId": "b764c6c5-906a-4699-addd-4fef126bcc41"
      },
      "execution_count": 28,
      "outputs": [
        {
          "output_type": "execute_result",
          "data": {
            "text/plain": [
              "5"
            ]
          },
          "metadata": {},
          "execution_count": 28
        }
      ]
    },
    {
      "cell_type": "code",
      "source": [
        "matrix[0][0]"
      ],
      "metadata": {
        "colab": {
          "base_uri": "https://localhost:8080/"
        },
        "id": "KirTeMPvKT9Z",
        "outputId": "23f2d0e4-90e5-4783-b66e-468b264d075a"
      },
      "execution_count": 26,
      "outputs": [
        {
          "output_type": "execute_result",
          "data": {
            "text/plain": [
              "1"
            ]
          },
          "metadata": {},
          "execution_count": 26
        }
      ]
    },
    {
      "cell_type": "code",
      "source": [
        "def zero_matrix(matrix):\n",
        "  matrix = [[\"X\" if x == 0 else x for x in row] for row in matrix]\n",
        "  indices = []\n",
        "  for idx, row in enumerate(matrix):\n",
        "    if \"X\" in row:\n",
        "      indices = indices + [i for i, j in enumerate(row) if j == \"X\"]\n",
        "      matrix[idx] = [0] * len(matrix[0])\n",
        "  matrix = [[0 if row.index(i) in indices else i for i in row] for row in matrix]\n",
        "  return matrix\n"
      ],
      "metadata": {
        "id": "YP5KF3b9KckH"
      },
      "execution_count": 31,
      "outputs": []
    },
    {
      "cell_type": "code",
      "source": [
        "class test(unittest.TestCase):\n",
        "  test_cases = [\n",
        "    (\n",
        "      [\n",
        "        [1, 2, 3, 4, 0],\n",
        "        [6, 0, 8, 9, 10],\n",
        "        [11, 12, 13, 14, 15],\n",
        "        [16, 0, 18, 19, 20],\n",
        "        [21, 22, 23, 24, 25],\n",
        "      ],\n",
        "      [\n",
        "        [0, 0, 0, 0, 0],\n",
        "        [0, 0, 0, 0, 0],\n",
        "        [11, 0, 13, 14, 0],\n",
        "        [0, 0, 0, 0, 0],\n",
        "        [21, 0, 23, 24, 0],\n",
        "      ],\n",
        "    )\n",
        "  ]\n",
        "\n",
        "  def test_zero_matrix(self):\n",
        "    for [test_matrix, expected] in self.test_cases:\n",
        "      test_matrix = deepcopy(test_matrix)\n",
        "      assert zero_matrix(test_matrix) == expected\n"
      ],
      "metadata": {
        "id": "ZB27GwvKKop7"
      },
      "execution_count": 32,
      "outputs": []
    },
    {
      "cell_type": "code",
      "source": [
        "unittest.main(argv=[''], verbosity=2, exit=False)"
      ],
      "metadata": {
        "colab": {
          "base_uri": "https://localhost:8080/"
        },
        "id": "pGeZsAFDLnxk",
        "outputId": "c0595d67-3a77-486a-d185-fdaaef057116"
      },
      "execution_count": 33,
      "outputs": [
        {
          "output_type": "stream",
          "name": "stderr",
          "text": [
            "test_zero_matrix (__main__.test) ... ok\n",
            "\n",
            "----------------------------------------------------------------------\n",
            "Ran 1 test in 0.003s\n",
            "\n",
            "OK\n"
          ]
        },
        {
          "output_type": "execute_result",
          "data": {
            "text/plain": [
              "<unittest.main.TestProgram at 0x7f5cc4ac6b50>"
            ]
          },
          "metadata": {},
          "execution_count": 33
        }
      ]
    },
    {
      "cell_type": "code",
      "source": [
        "def string_rotation(s1,s2):\n",
        "    if len(s1) == len(s2) != 0:\n",
        "        return s2 in s1 * 2\n",
        "    return False"
      ],
      "metadata": {
        "id": "K_-orQWULzDK"
      },
      "execution_count": 45,
      "outputs": []
    },
    {
      "cell_type": "code",
      "source": [
        "class test(unittest.TestCase):\n",
        "    test_cases = [\n",
        "        (\"waterbottle\", \"erbottlewat\", True),\n",
        "        (\"foo\", \"bar\", False),\n",
        "        (\"foo\", \"foofoo\", False),        \n",
        "    ]\n",
        "\n",
        "    def test_string_rotation(self):\n",
        "        for [s1, s2, expected] in self.test_cases:\n",
        "            actual = string_rotation(s1, s2)\n",
        "            assert actual == expected"
      ],
      "metadata": {
        "id": "KkithHKfOdgp"
      },
      "execution_count": 46,
      "outputs": []
    },
    {
      "cell_type": "code",
      "source": [
        "unittest.main(argv=[''], verbosity=2, exit=False)"
      ],
      "metadata": {
        "colab": {
          "base_uri": "https://localhost:8080/"
        },
        "id": "1FVGDdy1PA2m",
        "outputId": "d4b68086-c8e2-4062-bcf5-8aa0ed00ce53"
      },
      "execution_count": 47,
      "outputs": [
        {
          "output_type": "stream",
          "name": "stderr",
          "text": [
            "test_string_rotation (__main__.test) ... ok\n",
            "\n",
            "----------------------------------------------------------------------\n",
            "Ran 1 test in 0.004s\n",
            "\n",
            "OK\n"
          ]
        },
        {
          "output_type": "execute_result",
          "data": {
            "text/plain": [
              "<unittest.main.TestProgram at 0x7f5cc4a84dd0>"
            ]
          },
          "metadata": {},
          "execution_count": 47
        }
      ]
    },
    {
      "cell_type": "code",
      "source": [
        "s1 = \"waterbottle\"\n",
        "s2 = \"erbottletwat\"\n",
        "\n",
        "print(s2 * 2)"
      ],
      "metadata": {
        "colab": {
          "base_uri": "https://localhost:8080/"
        },
        "id": "Sjx4G-52PCzO",
        "outputId": "c7abe528-b517-4287-aa30-83fb261d3f9e"
      },
      "execution_count": 37,
      "outputs": [
        {
          "output_type": "stream",
          "name": "stdout",
          "text": [
            "erbottletwaterbottletwat\n"
          ]
        }
      ]
    },
    {
      "cell_type": "code",
      "source": [
        "s1 in s2*2"
      ],
      "metadata": {
        "colab": {
          "base_uri": "https://localhost:8080/"
        },
        "id": "r1suO1ZEPnbH",
        "outputId": "d95df2fe-8e7d-481b-8d47-1f98a0f83194"
      },
      "execution_count": 49,
      "outputs": [
        {
          "output_type": "execute_result",
          "data": {
            "text/plain": [
              "True"
            ]
          },
          "metadata": {},
          "execution_count": 49
        }
      ]
    },
    {
      "cell_type": "code",
      "source": [
        "from collections import Counter"
      ],
      "metadata": {
        "id": "yWETaDNqRk-K"
      },
      "execution_count": 57,
      "outputs": []
    },
    {
      "cell_type": "code",
      "source": [
        "def palindrome_permutation(phrase):\n",
        "    counter = Counter(phrase.replace(\" \",\"\").lower())\n",
        "    return sum(val % 2 for val in counter.values()) <= 1"
      ],
      "metadata": {
        "id": "rMmPdUNCQLkE"
      },
      "execution_count": 61,
      "outputs": []
    },
    {
      "cell_type": "code",
      "source": [
        "class test(unittest.TestCase):\n",
        "    test_cases = [\n",
        "        (\"aba\", True),\n",
        "        (\"aab\", True),\n",
        "        (\"abba\", True),\n",
        "        (\"aabb\", True),\n",
        "        (\"a-bba\", True),\n",
        "        (\"Tact Coa\", True),\n",
        "        (\"jhsabckuj ahjsbckj\", True),\n",
        "        (\"Able was I ere I saw Elba\", True),\n",
        "        (\"So patient a nurse to nurse a patient so\", False),\n",
        "        (\"Random Words\", False),\n",
        "        (\"Not a Palindrome\", False),\n",
        "        (\"no x in nixon\", True),\n",
        "        (\"azAZ\", True),\n",
        "    ]\n",
        "\n",
        "    def test_palindrome_permutation(self):\n",
        "        for [phrase, expected] in self.test_cases:\n",
        "            assert palindrome_permutation(phrase) == expected"
      ],
      "metadata": {
        "id": "Oe8r8QDpQiWk"
      },
      "execution_count": 62,
      "outputs": []
    },
    {
      "cell_type": "code",
      "source": [
        "unittest.main(argv=[''], verbosity=2, exit=False)"
      ],
      "metadata": {
        "colab": {
          "base_uri": "https://localhost:8080/"
        },
        "id": "ULH-2DdYRCnC",
        "outputId": "363009b0-1f2b-453d-d34e-f15eca74e8d3"
      },
      "execution_count": 63,
      "outputs": [
        {
          "output_type": "stream",
          "name": "stderr",
          "text": [
            "test_palindrome_permutation (__main__.test) ... ok\n",
            "\n",
            "----------------------------------------------------------------------\n",
            "Ran 1 test in 0.005s\n",
            "\n",
            "OK\n"
          ]
        },
        {
          "output_type": "execute_result",
          "data": {
            "text/plain": [
              "<unittest.main.TestProgram at 0x7f5cc4a343d0>"
            ]
          },
          "metadata": {},
          "execution_count": 63
        }
      ]
    },
    {
      "cell_type": "code",
      "source": [
        "s = \"Able was I ere I saw Elba\"\n",
        "print(s.lower())"
      ],
      "metadata": {
        "colab": {
          "base_uri": "https://localhost:8080/"
        },
        "id": "-_wE4w7uRE0F",
        "outputId": "8fabcd74-f10e-4540-ddc1-793c8be385b5"
      },
      "execution_count": 55,
      "outputs": [
        {
          "output_type": "stream",
          "name": "stdout",
          "text": [
            "able was i ere i saw elba\n"
          ]
        }
      ]
    },
    {
      "cell_type": "code",
      "source": [
        "print(s.replace(\" \",\"\").lower())"
      ],
      "metadata": {
        "colab": {
          "base_uri": "https://localhost:8080/"
        },
        "id": "uQjXNjFQRefT",
        "outputId": "ac1d5d6a-6b26-418b-90b4-7820ee009749"
      },
      "execution_count": 59,
      "outputs": [
        {
          "output_type": "stream",
          "name": "stdout",
          "text": [
            "ablewasiereisawelba\n"
          ]
        }
      ]
    },
    {
      "cell_type": "code",
      "source": [
        "print(Counter(s.replace(\" \",\"\").lower()))"
      ],
      "metadata": {
        "colab": {
          "base_uri": "https://localhost:8080/"
        },
        "id": "u71eio6HR1a7",
        "outputId": "bb5278c9-45b5-4f2c-f581-125561e0485d"
      },
      "execution_count": 60,
      "outputs": [
        {
          "output_type": "stream",
          "name": "stdout",
          "text": [
            "Counter({'a': 4, 'e': 4, 'b': 2, 'l': 2, 'w': 2, 's': 2, 'i': 2, 'r': 1})\n"
          ]
        }
      ]
    },
    {
      "cell_type": "code",
      "source": [
        "counter = Counter(s.replace(\" \",\"\").lower())"
      ],
      "metadata": {
        "id": "PnPwVCFRSKfA"
      },
      "execution_count": 64,
      "outputs": []
    },
    {
      "cell_type": "code",
      "source": [
        "counter.values()"
      ],
      "metadata": {
        "colab": {
          "base_uri": "https://localhost:8080/"
        },
        "id": "BdcpYosHSh6E",
        "outputId": "d88c2dc6-5b2e-4330-cf4b-4982fa57ba6f"
      },
      "execution_count": 66,
      "outputs": [
        {
          "output_type": "execute_result",
          "data": {
            "text/plain": [
              "dict_values([4, 2, 2, 4, 2, 2, 2, 1])"
            ]
          },
          "metadata": {},
          "execution_count": 66
        }
      ]
    },
    {
      "cell_type": "code",
      "source": [
        "counter.keys()"
      ],
      "metadata": {
        "colab": {
          "base_uri": "https://localhost:8080/"
        },
        "id": "yCQpUqeKSnBB",
        "outputId": "876a3696-66c3-4f93-bf50-6c22ee3fd117"
      },
      "execution_count": 67,
      "outputs": [
        {
          "output_type": "execute_result",
          "data": {
            "text/plain": [
              "dict_keys(['a', 'b', 'l', 'e', 'w', 's', 'i', 'r'])"
            ]
          },
          "metadata": {},
          "execution_count": 67
        }
      ]
    },
    {
      "cell_type": "code",
      "source": [
        "def string_compression(phrase):\n",
        "    compressed = []\n",
        "    counter = 0\n",
        "\n",
        "    for i in range(len(phrase)):\n",
        "        if i != 0 and phrase[i] != phrase[i-1]:\n",
        "            compressed.append(phrase[i - 1] + str(counter))\n",
        "            counter = 0\n",
        "        counter += 1\n",
        "\n",
        "    if counter:\n",
        "        compressed.append(phrase[-1] + str(counter))\n",
        "\n",
        "    return min(phrase, \"\".join(compressed), key=len)"
      ],
      "metadata": {
        "id": "HFzJkL2lStsi"
      },
      "execution_count": 83,
      "outputs": []
    },
    {
      "cell_type": "code",
      "source": [
        "print(string_compression(\"aabcccccaaa\"))"
      ],
      "metadata": {
        "colab": {
          "base_uri": "https://localhost:8080/"
        },
        "id": "0j9VP7t9VeoO",
        "outputId": "a2786504-4333-4184-b8ba-e76bd9735146"
      },
      "execution_count": 84,
      "outputs": [
        {
          "output_type": "stream",
          "name": "stdout",
          "text": [
            "a2b1c5a3\n"
          ]
        }
      ]
    },
    {
      "cell_type": "code",
      "source": [
        "class test(unittest.TestCase):\n",
        "    test_cases = [\n",
        "        (\"aabcccccaaa\", \"a2b1c5a3\"),\n",
        "        (\"abcdef\", \"abcdef\"),\n",
        "        (\"aabb\", \"aabb\"),\n",
        "        (\"aaa\", \"a3\"),\n",
        "        (\"a\", \"a\"),\n",
        "        (\"\", \"\"),\n",
        "    ]\n",
        "\n",
        "    def test_string_compression(self):\n",
        "        for [phrase, expected] in self.test_cases:\n",
        "            assert string_compression(phrase) == expected"
      ],
      "metadata": {
        "id": "qNgQlvNFTAgp"
      },
      "execution_count": 78,
      "outputs": []
    },
    {
      "cell_type": "code",
      "source": [
        "unittest.main(argv=[''], verbosity=2, exit=False)"
      ],
      "metadata": {
        "colab": {
          "base_uri": "https://localhost:8080/"
        },
        "id": "-32iIekxTfqB",
        "outputId": "578a1abc-acd9-4d30-94e3-9381bf4883ec"
      },
      "execution_count": 79,
      "outputs": [
        {
          "output_type": "stream",
          "name": "stderr",
          "text": [
            "test_string_compression (__main__.test) ... FAIL\n",
            "\n",
            "======================================================================\n",
            "FAIL: test_string_compression (__main__.test)\n",
            "----------------------------------------------------------------------\n",
            "Traceback (most recent call last):\n",
            "  File \"<ipython-input-78-474850806214>\", line 13, in test_string_compression\n",
            "    assert string_compression(phrase) == expected\n",
            "AssertionError\n",
            "\n",
            "----------------------------------------------------------------------\n",
            "Ran 1 test in 0.006s\n",
            "\n",
            "FAILED (failures=1)\n"
          ]
        },
        {
          "output_type": "execute_result",
          "data": {
            "text/plain": [
              "<unittest.main.TestProgram at 0x7f5cc4a710d0>"
            ]
          },
          "metadata": {},
          "execution_count": 79
        }
      ]
    },
    {
      "cell_type": "code",
      "source": [
        "compressed = [\"a\",\"a\",\"a\",\"a\"]\n",
        "phrase = \"aaa\"\n",
        "\n",
        "print(min(phrase, \"\".join(compressed), key=len))"
      ],
      "metadata": {
        "colab": {
          "base_uri": "https://localhost:8080/"
        },
        "id": "VRkdfFSOThm0",
        "outputId": "17bbf874-d084-49fc-be4d-5a1835d02da8"
      },
      "execution_count": 76,
      "outputs": [
        {
          "output_type": "stream",
          "name": "stdout",
          "text": [
            "aaa\n"
          ]
        }
      ]
    },
    {
      "cell_type": "code",
      "source": [
        "import random\n",
        "\n",
        "\n",
        "class LinkedListNode:\n",
        "    def __init__(self, value, next_node=None, prev_node=None):\n",
        "        self.value = value\n",
        "        self.next = next_node\n",
        "        self.prev = prev_node\n",
        "\n",
        "    def __str__(self):\n",
        "        return str(self.value)\n",
        "\n",
        "\n",
        "class LinkedList:\n",
        "    def __init__(self, values=None):\n",
        "        self.head = None\n",
        "        self.tail = None\n",
        "        if values is not None:\n",
        "            self.add_multiple(values)\n",
        "\n",
        "    def __iter__(self):\n",
        "        current = self.head\n",
        "        while current:\n",
        "            yield current\n",
        "            current = current.next\n",
        "\n",
        "    def __str__(self):\n",
        "        values = [str(x) for x in self]\n",
        "        return \" -> \".join(values)\n",
        "\n",
        "    def __len__(self):\n",
        "        result = 0\n",
        "        node = self.head\n",
        "        while node:\n",
        "            result += 1\n",
        "            node = node.next\n",
        "        return result\n",
        "\n",
        "    def values(self):\n",
        "        return [x.value for x in self]\n",
        "\n",
        "    def add(self, value):\n",
        "        if self.head is None:\n",
        "            self.tail = self.head = LinkedListNode(value)\n",
        "        else:\n",
        "            self.tail.next = LinkedListNode(value)\n",
        "            self.tail = self.tail.next\n",
        "        return self.tail\n",
        "\n",
        "    def add_to_beginning(self, value):\n",
        "        if self.head is None:\n",
        "            self.tail = self.head = LinkedListNode(value)\n",
        "        else:\n",
        "            self.head = LinkedListNode(value, self.head)\n",
        "        return self.head\n",
        "\n",
        "    def add_multiple(self, values):\n",
        "        for v in values:\n",
        "            self.add(v)\n",
        "\n",
        "    @classmethod\n",
        "    def generate(cls, k, min_value, max_value):\n",
        "        return cls(random.choices(range(min_value, max_value), k=k))\n",
        "\n",
        "\n",
        "class DoublyLinkedList(LinkedList):\n",
        "    def add(self, value):\n",
        "        if self.head is None:\n",
        "            self.tail = self.head = LinkedListNode(value)\n",
        "        else:\n",
        "            self.tail.next = LinkedListNode(value, None, self.tail)\n",
        "            self.tail = self.tail.next\n",
        "        return self"
      ],
      "metadata": {
        "id": "nZmisHkbUALS"
      },
      "execution_count": 85,
      "outputs": []
    },
    {
      "cell_type": "code",
      "source": [
        ""
      ],
      "metadata": {
        "id": "f1EWJt6NaOvR"
      },
      "execution_count": null,
      "outputs": []
    }
  ]
}