{
  "cells": [
    {
      "cell_type": "markdown",
      "metadata": {
        "id": "view-in-github",
        "colab_type": "text"
      },
      "source": [
        "<a href=\"https://colab.research.google.com/github/sanggusti/30-days-kaggle/blob/main/colabs/wandb-artifacts/Pipeline_Versioning_with_W%26B_Artifacts.ipynb\" target=\"_parent\"><img src=\"https://colab.research.google.com/assets/colab-badge.svg\" alt=\"Open In Colab\"/></a>"
      ]
    },
    {
      "cell_type": "markdown",
      "metadata": {
        "id": "oJ-SZwDz43rj"
      },
      "source": [
        "<img src=\"https://i.imgur.com/gb6B4ig.png\" width=\"400\" alt=\"Weights & Biases\" />\n",
        "\n",
        "<!--- @wandbcode{artifacts-pipeline} -->\n",
        "\n",
        "# 🏺 Artifacts 🏺\n",
        "\n",
        "In this notebook, we'll show you how to use W&B Artifacts (🏺)\n",
        "to track your ML experiment pipelines (🧪).\n",
        "Our sophisticated mathematical models predict the following result:\n",
        "\n",
        "$$\n",
        "{\\Huge\n",
        "🧪 + 🏺 = 😃}\n",
        "$$\n"
      ]
    },
    {
      "cell_type": "markdown",
      "metadata": {
        "id": "ZiAz1oWH43rn"
      },
      "source": [
        "### Follow along with a [video tutorial](http://tiny.cc/wb-artifacts-video)!"
      ]
    },
    {
      "cell_type": "markdown",
      "metadata": {
        "id": "jheJdGHc43rn"
      },
      "source": [
        "### 🤔 What are Artifacts and Why Should I Care?\n",
        "\n",
        "An \"artifact\", like a Greek [amphora 🏺](https://en.wikipedia.org/wiki/Amphora),\n",
        "is a produced object -- the output of a process.\n",
        "In ML, the most important artifacts are _datasets_ and _models_.\n",
        "\n",
        "And, like the [Cross of Coronado](https://indianajones.fandom.com/wiki/Cross_of_Coronado), these important artifacts belong in a museum!\n",
        "That is, they should be cataloged and organized\n",
        "so that you, your team, and the ML community at large can learn from them.\n",
        "After all, those who don't track training are doomed to repeat it.\n",
        "\n",
        "Using our Artifacts API, you can log `Artifact`s as outputs of W&B `Run`s or use `Artifact`s as input to `Run`s, as in this diagram,\n",
        "where a training run takes in a dataset and produces a model.\n",
        " \n",
        " ![](https://gblobscdn.gitbook.com/assets%2F-Lqya5RvLedGEWPhtkjU%2F-M94QAXA-oJmE6q07_iT%2F-M94QJCXLeePzH1p_fW1%2Fsimple%20artifact%20diagram%202.png?alt=media&token=94bc438a-bd3b-414d-a4e4-aa4f6f359f21)\n",
        "\n",
        "Since one run can use another's output as an input, Artifacts and Runs together form a directed graph -- actually, a bipartite [DAG](https://en.wikipedia.org/wiki/Directed_acyclic_graph)! -- with nodes for `Artifact`s and `Run`s\n",
        "and arrows connecting `Run`s to the `Artifact`s they consume or produce."
      ]
    },
    {
      "cell_type": "markdown",
      "metadata": {
        "id": "GjJGMVML43ro"
      },
      "source": [
        "# 0️⃣ Install and Import"
      ]
    },
    {
      "cell_type": "markdown",
      "metadata": {
        "id": "HGgx3PiA43rp"
      },
      "source": [
        "Artifacts are part of our Python library, starting with version `0.9.2`.\n",
        "\n",
        "Like most parts of the ML Python stack, it's available via `pip`."
      ]
    },
    {
      "cell_type": "code",
      "execution_count": 1,
      "metadata": {
        "colab": {
          "base_uri": "https://localhost:8080/"
        },
        "id": "mDgr9Ykj43rp",
        "outputId": "48f3f4ce-c848-438d-b2a8-f4ccc3e07e4c"
      },
      "outputs": [
        {
          "output_type": "stream",
          "name": "stdout",
          "text": [
            "\u001b[K     |████████████████████████████████| 1.7 MB 5.0 MB/s \n",
            "\u001b[K     |████████████████████████████████| 144 kB 53.3 MB/s \n",
            "\u001b[K     |████████████████████████████████| 181 kB 52.8 MB/s \n",
            "\u001b[K     |████████████████████████████████| 63 kB 1.6 MB/s \n",
            "\u001b[?25h  Building wheel for pathtools (setup.py) ... \u001b[?25l\u001b[?25hdone\n",
            "Reading package lists... Done\n",
            "Building dependency tree       \n",
            "Reading state information... Done\n",
            "The following NEW packages will be installed:\n",
            "  tree\n",
            "0 upgraded, 1 newly installed, 0 to remove and 39 not upgraded.\n",
            "Need to get 40.7 kB of archives.\n",
            "After this operation, 105 kB of additional disk space will be used.\n",
            "Get:1 http://archive.ubuntu.com/ubuntu bionic/universe amd64 tree amd64 1.7.0-5 [40.7 kB]\n",
            "Fetched 40.7 kB in 0s (188 kB/s)\n",
            "Selecting previously unselected package tree.\n",
            "(Reading database ... 156210 files and directories currently installed.)\n",
            "Preparing to unpack .../tree_1.7.0-5_amd64.deb ...\n",
            "Unpacking tree (1.7.0-5) ...\n",
            "Setting up tree (1.7.0-5) ...\n",
            "Processing triggers for man-db (2.8.3-2ubuntu0.1) ...\n"
          ]
        }
      ],
      "source": [
        "# Compatible with wandb version 0.9.2+\n",
        "!pip install wandb -qqq\n",
        "!apt install tree"
      ]
    },
    {
      "cell_type": "code",
      "execution_count": 2,
      "metadata": {
        "id": "KCCVH7zu43rq"
      },
      "outputs": [],
      "source": [
        "import os\n",
        "import wandb"
      ]
    },
    {
      "cell_type": "markdown",
      "metadata": {
        "id": "UdWkWgH643rr"
      },
      "source": [
        "# 1️⃣ Log a Dataset"
      ]
    },
    {
      "cell_type": "markdown",
      "metadata": {
        "id": "aAc4NPIM43rr"
      },
      "source": [
        "First, let's define some Artifacts.\n",
        "\n",
        "This example is based off of this PyTorch\n",
        "[\"Basic MNIST Example\"](https://github.com/pytorch/examples/tree/master/mnist/),\n",
        "but could just as easily have been done in [TensorFlow](http://wandb.me/artifacts-colab), in any other framework,\n",
        "or in pure Python.\n",
        "\n",
        "We start with the `Dataset`s:\n",
        "- a `train`ing set, for choosing the parameters,\n",
        "- a `validation` set, for choosing the hyperparameters,\n",
        "- a `test`ing set, for evaluating the final model\n",
        "\n",
        "The first cell below defines these three datasets."
      ]
    },
    {
      "cell_type": "code",
      "execution_count": 3,
      "metadata": {
        "id": "e8F5qSWK43rs"
      },
      "outputs": [],
      "source": [
        "import random \n",
        "\n",
        "import torch\n",
        "import torchvision\n",
        "from torch.utils.data import TensorDataset\n",
        "from tqdm.notebook import tqdm\n",
        "\n",
        "# Ensure deterministic behavior\n",
        "torch.backends.cudnn.deterministic = True\n",
        "random.seed(0)\n",
        "torch.manual_seed(0)\n",
        "torch.cuda.manual_seed_all(0)\n",
        "\n",
        "# Device configuration\n",
        "device = torch.device(\"cuda:0\" if torch.cuda.is_available() else \"cpu\")\n",
        "\n",
        "# Data parameters\n",
        "num_classes = 10\n",
        "input_shape = (1, 28, 28)\n",
        "\n",
        "# drop slow mirror from list of MNIST mirrors\n",
        "torchvision.datasets.MNIST.mirrors = [mirror for mirror in torchvision.datasets.MNIST.mirrors\n",
        "                                      if not mirror.startswith(\"http://yann.lecun.com\")]\n",
        "\n",
        "def load(train_size=50_000):\n",
        "    \"\"\"\n",
        "    # Load the data\n",
        "    \"\"\"\n",
        "\n",
        "    # the data, split between train and test sets\n",
        "    train = torchvision.datasets.MNIST(\"./\", train=True, download=True)\n",
        "    test = torchvision.datasets.MNIST(\"./\", train=False, download=True)\n",
        "    (x_train, y_train), (x_test, y_test) = (train.data, train.targets), (test.data, test.targets)\n",
        "\n",
        "    # split off a validation set for hyperparameter tuning\n",
        "    x_train, x_val = x_train[:train_size], x_train[train_size:]\n",
        "    y_train, y_val = y_train[:train_size], y_train[train_size:]\n",
        "\n",
        "    training_set = TensorDataset(x_train, y_train)\n",
        "    validation_set = TensorDataset(x_val, y_val)\n",
        "    test_set = TensorDataset(x_test, y_test)\n",
        "\n",
        "    datasets = [training_set, validation_set, test_set]\n",
        "\n",
        "    return datasets"
      ]
    },
    {
      "cell_type": "markdown",
      "metadata": {
        "id": "YA7KG2PQ43rt"
      },
      "source": [
        "This sets up a pattern we'll see repeated in this example:\n",
        "the code to log the data as an Artifact is wrapped around the code for\n",
        "producing that data.\n",
        "In this case, the code for `load`ing the data is\n",
        "separated out from the code for `load_and_log`ging the data.\n",
        "\n",
        "This is good practice!"
      ]
    },
    {
      "cell_type": "markdown",
      "metadata": {
        "id": "xYn7b0Zs43rt"
      },
      "source": [
        "In order to log these datasets as Artifacts,\n",
        "we just need to\n",
        "1. create a `Run` with `wandb.init`, (L4)\n",
        "2. create an `Artifact` for the dataset (L10), and\n",
        "3. save and log the associated `file`s (L20, L23).\n",
        "\n",
        "Check out the example the code cell below\n",
        "and then expand the sections afterwards for more details."
      ]
    },
    {
      "cell_type": "code",
      "execution_count": 4,
      "metadata": {
        "colab": {
          "base_uri": "https://localhost:8080/",
          "height": 630,
          "referenced_widgets": [
            "fdfaa06e31bc47ab86dfeb6c89378632",
            "63d47d471dfd4c319635e9b6a3530da1",
            "e70a28f11b63489cb572fc36f4190b41",
            "3a375b9366af45498086b52048f0aeac",
            "d63ac15af8c74d1cb8172a5a46db7897",
            "d92fc8728530490e87736dbd4efc052e",
            "e183cae2f2554b8cba256168b33e8cf2",
            "1e3a6ca1c7ea43bfbe3af021ceff3597",
            "57d820a0843e41d1bd056e1d9d889edf",
            "90d9702271bc46aea846aeb3a6401afe",
            "6dc8053002aa408a9ca5d8d4132821bf",
            "3b70e43b5cb34b0885cfa2de95da7299",
            "6c94fe4840ef49d28b88cc4744622961",
            "aac2b47baea24f21a7983b7523636f37",
            "d4c31ee3345c48ce8986f91a0881022f",
            "574bb0e93ae94724804f8fdb37f5473b",
            "d4cb420403bb45e099415b5270faa994",
            "f011162a3ee04bc3be187270af12c0a2",
            "696f7b8423ca49e4a7fac9ae987f4bb2",
            "63ffcf3876634a0a8ee41823c8ff2b7e",
            "d4dd8d1e5c9b4e19a05a6278c1afec25",
            "27770936e34d4e82b7503edce908e971",
            "f82e75f5a4eb4318bded95b16633b779",
            "8a5dd68b0f874ccbbe78143c055768df",
            "09c8649d008b4d3784dacd2614f62af3",
            "fa048a7d8d4d4badbe1900c0f2eedfad",
            "53a5a18d54244d37a761a11f26f27533",
            "84448e26edfc49a0adfc378aef7fd138",
            "c3805c43692b4a43a6662b02cf2ea231",
            "eb0a3e699f474cddb2dfd6c817be334d",
            "231cb14d7a804c7e9ebb25651561f9cb",
            "d57629d242b947d3b8b3b72712af5fa1",
            "941c77adbcfa47088cb1b9b3d33c7a61",
            "a5243abfb3a242a4b3bf1becb66f7d44",
            "3775b2bf626a4e03bf95fa0a2200e44c",
            "40d19b7160054e17816baf342d90c02d",
            "400a3e30d215457299d7176b2f34532c",
            "e01fdf0fc9aa477eb815b07716ab826f",
            "543cacf969d04c02aaffea067a816f70",
            "180d1f33562946a3bf760cb6f4b58bea",
            "b026761d17ae467a8a7b22f5efaa17a6",
            "43776ad4c7b04500b0c19d2f62c54114",
            "2d614dcd221c4756a35cdd18581687be",
            "627fb4b075224b2293924cc529da7e0f",
            "1e91ca80b95f4003839652fef94a31e1",
            "ce22fb6d5adb410aaf9cb77807e4ea06",
            "027c757357494926b27dd444dd7aa118",
            "8f0e6f00aa04495e9233a99ef5ac45c7",
            "68496d2325594ce7ae9d7c22459043b4",
            "2605187158704441b4ebfc4e62dbebcc",
            "143c3de0d9ba40f687819cc240cc13b1",
            "fa711de6d0db4ac792d2d14da5ac16ba"
          ]
        },
        "id": "_EJr-z9b43ru",
        "outputId": "88be9884-3dc1-4579-e46b-70deb0975e51"
      },
      "outputs": [
        {
          "output_type": "display_data",
          "data": {
            "text/plain": [
              "<IPython.core.display.Javascript object>"
            ],
            "application/javascript": [
              "\n",
              "        window._wandbApiKey = new Promise((resolve, reject) => {\n",
              "            function loadScript(url) {\n",
              "            return new Promise(function(resolve, reject) {\n",
              "                let newScript = document.createElement(\"script\");\n",
              "                newScript.onerror = reject;\n",
              "                newScript.onload = resolve;\n",
              "                document.body.appendChild(newScript);\n",
              "                newScript.src = url;\n",
              "            });\n",
              "            }\n",
              "            loadScript(\"https://cdn.jsdelivr.net/npm/postmate/build/postmate.min.js\").then(() => {\n",
              "            const iframe = document.createElement('iframe')\n",
              "            iframe.style.cssText = \"width:0;height:0;border:none\"\n",
              "            document.body.appendChild(iframe)\n",
              "            const handshake = new Postmate({\n",
              "                container: iframe,\n",
              "                url: 'https://wandb.ai/authorize'\n",
              "            });\n",
              "            const timeout = setTimeout(() => reject(\"Couldn't auto authenticate\"), 5000)\n",
              "            handshake.then(function(child) {\n",
              "                child.on('authorize', data => {\n",
              "                    clearTimeout(timeout)\n",
              "                    resolve(data)\n",
              "                });\n",
              "            });\n",
              "            })\n",
              "        });\n",
              "    "
            ]
          },
          "metadata": {}
        },
        {
          "output_type": "stream",
          "name": "stderr",
          "text": [
            "\u001b[34m\u001b[1mwandb\u001b[0m: You can find your API key in your browser here: https://wandb.ai/authorize\n"
          ]
        },
        {
          "name": "stdout",
          "output_type": "stream",
          "text": [
            "wandb: Paste an API key from your profile and hit enter, or press ctrl+c to quit: ··········\n"
          ]
        },
        {
          "output_type": "stream",
          "name": "stderr",
          "text": [
            "\u001b[34m\u001b[1mwandb\u001b[0m: Appending key for api.wandb.ai to your netrc file: /root/.netrc\n"
          ]
        },
        {
          "output_type": "display_data",
          "data": {
            "text/plain": [
              "<IPython.core.display.HTML object>"
            ],
            "text/html": [
              "Tracking run with wandb version 0.12.11"
            ]
          },
          "metadata": {}
        },
        {
          "output_type": "display_data",
          "data": {
            "text/plain": [
              "<IPython.core.display.HTML object>"
            ],
            "text/html": [
              "Run data is saved locally in <code>/content/wandb/run-20220330_125702-8031k68k</code>"
            ]
          },
          "metadata": {}
        },
        {
          "output_type": "display_data",
          "data": {
            "text/plain": [
              "<IPython.core.display.HTML object>"
            ],
            "text/html": [
              "Syncing run <strong><a href=\"https://wandb.ai/gustiwinata/artifacts-example/runs/8031k68k\" target=\"_blank\">rural-yogurt-1</a></strong> to <a href=\"https://wandb.ai/gustiwinata/artifacts-example\" target=\"_blank\">Weights & Biases</a> (<a href=\"https://wandb.me/run\" target=\"_blank\">docs</a>)<br/>"
            ]
          },
          "metadata": {}
        },
        {
          "output_type": "stream",
          "name": "stdout",
          "text": [
            "Downloading https://ossci-datasets.s3.amazonaws.com/mnist/train-images-idx3-ubyte.gz\n",
            "Downloading https://ossci-datasets.s3.amazonaws.com/mnist/train-images-idx3-ubyte.gz to ./MNIST/raw/train-images-idx3-ubyte.gz\n"
          ]
        },
        {
          "output_type": "display_data",
          "data": {
            "text/plain": [
              "  0%|          | 0/9912422 [00:00<?, ?it/s]"
            ],
            "application/vnd.jupyter.widget-view+json": {
              "version_major": 2,
              "version_minor": 0,
              "model_id": "fdfaa06e31bc47ab86dfeb6c89378632"
            }
          },
          "metadata": {}
        },
        {
          "output_type": "stream",
          "name": "stdout",
          "text": [
            "Extracting ./MNIST/raw/train-images-idx3-ubyte.gz to ./MNIST/raw\n",
            "\n",
            "Downloading https://ossci-datasets.s3.amazonaws.com/mnist/train-labels-idx1-ubyte.gz\n",
            "Downloading https://ossci-datasets.s3.amazonaws.com/mnist/train-labels-idx1-ubyte.gz to ./MNIST/raw/train-labels-idx1-ubyte.gz\n"
          ]
        },
        {
          "output_type": "display_data",
          "data": {
            "text/plain": [
              "  0%|          | 0/28881 [00:00<?, ?it/s]"
            ],
            "application/vnd.jupyter.widget-view+json": {
              "version_major": 2,
              "version_minor": 0,
              "model_id": "3b70e43b5cb34b0885cfa2de95da7299"
            }
          },
          "metadata": {}
        },
        {
          "output_type": "stream",
          "name": "stdout",
          "text": [
            "Extracting ./MNIST/raw/train-labels-idx1-ubyte.gz to ./MNIST/raw\n",
            "\n",
            "Downloading https://ossci-datasets.s3.amazonaws.com/mnist/t10k-images-idx3-ubyte.gz\n",
            "Downloading https://ossci-datasets.s3.amazonaws.com/mnist/t10k-images-idx3-ubyte.gz to ./MNIST/raw/t10k-images-idx3-ubyte.gz\n"
          ]
        },
        {
          "output_type": "display_data",
          "data": {
            "text/plain": [
              "  0%|          | 0/1648877 [00:00<?, ?it/s]"
            ],
            "application/vnd.jupyter.widget-view+json": {
              "version_major": 2,
              "version_minor": 0,
              "model_id": "f82e75f5a4eb4318bded95b16633b779"
            }
          },
          "metadata": {}
        },
        {
          "output_type": "stream",
          "name": "stdout",
          "text": [
            "Extracting ./MNIST/raw/t10k-images-idx3-ubyte.gz to ./MNIST/raw\n",
            "\n",
            "Downloading https://ossci-datasets.s3.amazonaws.com/mnist/t10k-labels-idx1-ubyte.gz\n",
            "Downloading https://ossci-datasets.s3.amazonaws.com/mnist/t10k-labels-idx1-ubyte.gz to ./MNIST/raw/t10k-labels-idx1-ubyte.gz\n"
          ]
        },
        {
          "output_type": "display_data",
          "data": {
            "text/plain": [
              "  0%|          | 0/4542 [00:00<?, ?it/s]"
            ],
            "application/vnd.jupyter.widget-view+json": {
              "version_major": 2,
              "version_minor": 0,
              "model_id": "a5243abfb3a242a4b3bf1becb66f7d44"
            }
          },
          "metadata": {}
        },
        {
          "output_type": "stream",
          "name": "stdout",
          "text": [
            "Extracting ./MNIST/raw/t10k-labels-idx1-ubyte.gz to ./MNIST/raw\n",
            "\n",
            "\n"
          ]
        },
        {
          "output_type": "display_data",
          "data": {
            "text/plain": [
              "<IPython.core.display.HTML object>"
            ],
            "text/html": [
              "Waiting for W&B process to finish... <strong style=\"color:green\">(success).</strong>"
            ]
          },
          "metadata": {}
        },
        {
          "output_type": "display_data",
          "data": {
            "text/plain": [
              "VBox(children=(Label(value='98.194 MB of 98.194 MB uploaded (0.000 MB deduped)\\r'), FloatProgress(value=1.0, m…"
            ],
            "application/vnd.jupyter.widget-view+json": {
              "version_major": 2,
              "version_minor": 0,
              "model_id": "1e91ca80b95f4003839652fef94a31e1"
            }
          },
          "metadata": {}
        },
        {
          "output_type": "display_data",
          "data": {
            "text/plain": [
              "<IPython.core.display.HTML object>"
            ],
            "text/html": [
              "Synced <strong style=\"color:#cdcd00\">rural-yogurt-1</strong>: <a href=\"https://wandb.ai/gustiwinata/artifacts-example/runs/8031k68k\" target=\"_blank\">https://wandb.ai/gustiwinata/artifacts-example/runs/8031k68k</a><br/>Synced 5 W&B file(s), 0 media file(s), 3 artifact file(s) and 0 other file(s)"
            ]
          },
          "metadata": {}
        },
        {
          "output_type": "display_data",
          "data": {
            "text/plain": [
              "<IPython.core.display.HTML object>"
            ],
            "text/html": [
              "Find logs at: <code>./wandb/run-20220330_125702-8031k68k/logs</code>"
            ]
          },
          "metadata": {}
        }
      ],
      "source": [
        "def load_and_log():\n",
        "\n",
        "    # 🚀 start a run, with a type to label it and a project it can call home\n",
        "    with wandb.init(project=\"artifacts-example\", job_type=\"load-data\") as run:\n",
        "        \n",
        "        datasets = load()  # separate code for loading the datasets\n",
        "        names = [\"training\", \"validation\", \"test\"]\n",
        "\n",
        "        # 🏺 create our Artifact\n",
        "        raw_data = wandb.Artifact(\n",
        "            \"mnist-raw\", type=\"dataset\",\n",
        "            description=\"Raw MNIST dataset, split into train/val/test\",\n",
        "            metadata={\"source\": \"torchvision.datasets.MNIST\",\n",
        "                      \"sizes\": [len(dataset) for dataset in datasets]})\n",
        "\n",
        "        for name, data in zip(names, datasets):\n",
        "            # 🐣 Store a new file in the artifact, and write something into its contents.\n",
        "            with raw_data.new_file(name + \".pt\", mode=\"wb\") as file:\n",
        "                x, y = data.tensors\n",
        "                torch.save((x, y), file)\n",
        "\n",
        "        # ✍️ Save the artifact to W&B.\n",
        "        run.log_artifact(raw_data)\n",
        "\n",
        "load_and_log()"
      ]
    },
    {
      "cell_type": "markdown",
      "metadata": {
        "id": "IF8lgmkx43ru"
      },
      "source": [
        "### 🚀 `wandb.init`"
      ]
    },
    {
      "cell_type": "markdown",
      "metadata": {
        "id": "VjXiLqIi43ru"
      },
      "source": [
        "\n",
        "When we make the `Run` that's going to produce the `Artifact`s,\n",
        "we need to state which `project` it belongs to.\n",
        "\n",
        "Depending on your workflow,\n",
        "a project might be as big as `car-that-drives-itself`\n",
        "or as small as `iterative-architecture-experiment-117`.\n",
        "\n",
        "> **Rule of 👍**: if you can, keep all of the `Run`s that share `Artifact`s\n",
        "inside a single project. This keeps things simple,\n",
        "but don't worry -- `Artifact`s are portable across projects!\n",
        "\n",
        "To help keep track of all the different kinds of jobs you might run,\n",
        "it's useful to provide a `job_type` when making `Runs`.\n",
        "This keeps the graph of your Artifacts nice and tidy.\n",
        "\n",
        "> **Rule of 👍**: the `job_type` should be descriptive and correspond to a single step of your pipeline. Here, we separate out `load`ing data from `preprocess`ing data."
      ]
    },
    {
      "cell_type": "markdown",
      "metadata": {
        "id": "tGTgY4Mz43rv"
      },
      "source": [
        "### 🏺 `wandb.Artifact`"
      ]
    },
    {
      "cell_type": "markdown",
      "metadata": {
        "id": "wNasyHTB43rv"
      },
      "source": [
        "\n",
        "To log something as an `Artifact`, we have to first make an `Artifact` object.\n",
        "\n",
        "Every `Artifact` has a `name` -- that's what the first argument sets.\n",
        "\n",
        "> **Rule of 👍**: the `name` should be descriptive, but easy to remember and type --\n",
        "we like to use names that are hyphen-separated and correspond to variable names in the code.\n",
        "\n",
        "It also has a `type`. Just like `job_type`s for `Run`s,\n",
        "this is used for organizing the graph of `Run`s and `Artifact`s.\n",
        "\n",
        "> **Rule of 👍**: the `type` should be simple:\n",
        "more like `dataset` or `model`\n",
        "than `mnist-data-YYYYMMDD`.\n",
        "\n",
        "You can also attach a `description` and some `metadata`, as a dictionary.\n",
        "The `metadata` just needs to be serializable to JSON.\n",
        "\n",
        "> **Rule of 👍**: the `metadata` should be as descriptive as possible."
      ]
    },
    {
      "cell_type": "markdown",
      "metadata": {
        "id": "O8zXvQGo43rv"
      },
      "source": [
        "### 🐣 `artifact.new_file` and ✍️ `run.log_artifact`"
      ]
    },
    {
      "cell_type": "markdown",
      "metadata": {
        "id": "uBxphuPS43rv"
      },
      "source": [
        "Once we've made an `Artifact` object, we need to add files to it.\n",
        "\n",
        "You read that right: _files_ with an _s_.\n",
        "`Artifact`s are structured like directories,\n",
        "with files and sub-directories.\n",
        "\n",
        "> **Rule of 👍**: whenever it makes sense to do so, split the contents\n",
        "of an `Artifact` up into multiple files. This will help if it comes time to scale!\n",
        "\n",
        "We use the `new_file` method\n",
        "to simultaneously write the file and attach it to the `Artifact`.\n",
        "Below, we'll use the `add_file` method,\n",
        "which separates those two steps.\n",
        "\n",
        "Once we've added all of our files, we need to `log_artifact` to [wandb.ai](https://wandb.ai).\n",
        "\n",
        "You'll notice some URLs appeared in the output,\n",
        "including one for the Run page.\n",
        "That's where you can view the results of the `Run`,\n",
        "including any `Artifact`s that got logged.\n",
        "\n",
        "We'll see some examples that make better use of the other components of the Run page below."
      ]
    },
    {
      "cell_type": "markdown",
      "metadata": {
        "id": "zeCYIBZM43rw"
      },
      "source": [
        "# 2️⃣ Use a Logged Dataset Artifact"
      ]
    },
    {
      "cell_type": "markdown",
      "metadata": {
        "id": "tmWvh4yi43rw"
      },
      "source": [
        "`Artifact`s in W&B, unlike artifacts in museums,\n",
        "are designed to be _used_, not just stored.\n",
        "\n",
        "Let's see what that looks like.\n",
        "\n",
        "The cell below defines a pipeline step that takes in a raw dataset\n",
        "and uses it to produce a `preprocess`ed dataset:\n",
        "`normalize`d and shaped correctly.\n",
        "\n",
        "Notice again that we split out the meat of the code, `preprocess`,\n",
        "from the code that interfaces with `wandb`."
      ]
    },
    {
      "cell_type": "code",
      "execution_count": 5,
      "metadata": {
        "id": "grb1twSV43rw"
      },
      "outputs": [],
      "source": [
        "def preprocess(dataset, normalize=True, expand_dims=True):\n",
        "    \"\"\"\n",
        "    ## Prepare the data\n",
        "    \"\"\"\n",
        "    x, y = dataset.tensors\n",
        "\n",
        "    if normalize:\n",
        "        # Scale images to the [0, 1] range\n",
        "        x = x.type(torch.float32) / 255\n",
        "\n",
        "    if expand_dims:\n",
        "        # Make sure images have shape (1, 28, 28)\n",
        "        x = torch.unsqueeze(x, 1)\n",
        "    \n",
        "    return TensorDataset(x, y)"
      ]
    },
    {
      "cell_type": "markdown",
      "metadata": {
        "id": "jI82WL9z43rw"
      },
      "source": [
        "Now for the code that instruments this `preprocess` step with `wandb.Artifact` logging.\n",
        "\n",
        "Note that the example below both `use`s an `Artifact`,\n",
        "which is new,\n",
        "and `log`s it,\n",
        "which is the same as the last step.\n",
        "`Artifact`s are both the inputs and the outputs of `Run`s!\n",
        "\n",
        "We use a new `job_type`, `preprocess-data`,\n",
        "to make it clear that this is a different kind of job from the previous one."
      ]
    },
    {
      "cell_type": "code",
      "execution_count": 6,
      "metadata": {
        "id": "v2H_Vnw543rx"
      },
      "outputs": [],
      "source": [
        "def preprocess_and_log(steps):\n",
        "\n",
        "    with wandb.init(project=\"artifacts-example\", job_type=\"preprocess-data\") as run:\n",
        "\n",
        "        processed_data = wandb.Artifact(\n",
        "            \"mnist-preprocess\", type=\"dataset\",\n",
        "            description=\"Preprocessed MNIST dataset\",\n",
        "            metadata=steps)\n",
        "         \n",
        "        # ✔️ declare which artifact we'll be using\n",
        "        raw_data_artifact = run.use_artifact('mnist-raw:latest')\n",
        "\n",
        "        # 📥 if need be, download the artifact\n",
        "        raw_dataset = raw_data_artifact.download()\n",
        "        \n",
        "        for split in [\"training\", \"validation\", \"test\"]:\n",
        "            raw_split = read(raw_dataset, split)\n",
        "            processed_dataset = preprocess(raw_split, **steps)\n",
        "\n",
        "            with processed_data.new_file(split + \".pt\", mode=\"wb\") as file:\n",
        "                x, y = processed_dataset.tensors\n",
        "                torch.save((x, y), file)\n",
        "\n",
        "        run.log_artifact(processed_data)\n",
        "\n",
        "\n",
        "def read(data_dir, split):\n",
        "    filename = split + \".pt\"\n",
        "    x, y = torch.load(os.path.join(data_dir, filename))\n",
        "\n",
        "    return TensorDataset(x, y)"
      ]
    },
    {
      "cell_type": "markdown",
      "metadata": {
        "id": "K5MXmACP43rx"
      },
      "source": [
        "One thing to notice here is that the `steps` of the preprocessing\n",
        "are saved with the `preprocessed_data` as `metadata`.\n",
        "\n",
        "If you're trying to make your experiments reproducible,\n",
        "capturing lots of metadata is a good idea!\n",
        "\n",
        "Also, even though our dataset is a \"`large artifact`\",\n",
        "the `download` step is done in much less than a second.\n",
        "\n",
        "Expand the markdown cell below for details."
      ]
    },
    {
      "cell_type": "code",
      "execution_count": 7,
      "metadata": {
        "colab": {
          "base_uri": "https://localhost:8080/",
          "height": 190,
          "referenced_widgets": [
            "ca812022131b43a7a7d5ab957ad2c3d9",
            "3e77a63d9685430a88add23f36fbeb9a",
            "c2279a3905b342bcb06d24301bc194ab",
            "8cfb72a3e4864f41a9d5c1a8ca4361fb",
            "ec15e8045d234c67a3eb5b7943bb6162",
            "6cd3ab01c04345779e6c575ac1514c72",
            "9231a561a3b1453baaa94ebc7b575ddb",
            "95f4970eef6c4de9b2c26d554c0b1b84"
          ]
        },
        "id": "dsb8gUnz43rx",
        "outputId": "546cd39f-f4ab-4236-b952-19282c4beb7e"
      },
      "outputs": [
        {
          "output_type": "stream",
          "name": "stderr",
          "text": [
            "\u001b[34m\u001b[1mwandb\u001b[0m: Currently logged in as: \u001b[33mgustiwinata\u001b[0m (use `wandb login --relogin` to force relogin)\n"
          ]
        },
        {
          "output_type": "display_data",
          "data": {
            "text/plain": [
              "<IPython.core.display.HTML object>"
            ],
            "text/html": [
              "Tracking run with wandb version 0.12.11"
            ]
          },
          "metadata": {}
        },
        {
          "output_type": "display_data",
          "data": {
            "text/plain": [
              "<IPython.core.display.HTML object>"
            ],
            "text/html": [
              "Run data is saved locally in <code>/content/wandb/run-20220330_130140-zoel34tx</code>"
            ]
          },
          "metadata": {}
        },
        {
          "output_type": "display_data",
          "data": {
            "text/plain": [
              "<IPython.core.display.HTML object>"
            ],
            "text/html": [
              "Syncing run <strong><a href=\"https://wandb.ai/gustiwinata/artifacts-example/runs/zoel34tx\" target=\"_blank\">honest-mountain-2</a></strong> to <a href=\"https://wandb.ai/gustiwinata/artifacts-example\" target=\"_blank\">Weights & Biases</a> (<a href=\"https://wandb.me/run\" target=\"_blank\">docs</a>)<br/>"
            ]
          },
          "metadata": {}
        },
        {
          "output_type": "stream",
          "name": "stderr",
          "text": [
            "\u001b[34m\u001b[1mwandb\u001b[0m: Downloading large artifact mnist-raw:latest, 98.19MB. 3 files... Done. 0:0:0\n"
          ]
        },
        {
          "output_type": "stream",
          "name": "stdout",
          "text": [
            "\n"
          ]
        },
        {
          "output_type": "display_data",
          "data": {
            "text/plain": [
              "<IPython.core.display.HTML object>"
            ],
            "text/html": [
              "Waiting for W&B process to finish... <strong style=\"color:green\">(success).</strong>"
            ]
          },
          "metadata": {}
        },
        {
          "output_type": "display_data",
          "data": {
            "text/plain": [
              "VBox(children=(Label(value='210.346 MB of 210.346 MB uploaded (0.000 MB deduped)\\r'), FloatProgress(value=1.0,…"
            ],
            "application/vnd.jupyter.widget-view+json": {
              "version_major": 2,
              "version_minor": 0,
              "model_id": "ca812022131b43a7a7d5ab957ad2c3d9"
            }
          },
          "metadata": {}
        },
        {
          "output_type": "display_data",
          "data": {
            "text/plain": [
              "<IPython.core.display.HTML object>"
            ],
            "text/html": [
              "Synced <strong style=\"color:#cdcd00\">honest-mountain-2</strong>: <a href=\"https://wandb.ai/gustiwinata/artifacts-example/runs/zoel34tx\" target=\"_blank\">https://wandb.ai/gustiwinata/artifacts-example/runs/zoel34tx</a><br/>Synced 5 W&B file(s), 0 media file(s), 3 artifact file(s) and 0 other file(s)"
            ]
          },
          "metadata": {}
        },
        {
          "output_type": "display_data",
          "data": {
            "text/plain": [
              "<IPython.core.display.HTML object>"
            ],
            "text/html": [
              "Find logs at: <code>./wandb/run-20220330_130140-zoel34tx/logs</code>"
            ]
          },
          "metadata": {}
        }
      ],
      "source": [
        "steps = {\"normalize\": True,\n",
        "         \"expand_dims\": True}\n",
        "\n",
        "preprocess_and_log(steps)"
      ]
    },
    {
      "cell_type": "markdown",
      "metadata": {
        "id": "XkzLV3rv43ry"
      },
      "source": [
        "### ✔️ `run.use_artifact`"
      ]
    },
    {
      "cell_type": "markdown",
      "metadata": {
        "id": "TEzhq8U843ry"
      },
      "source": [
        "These steps are simpler. The consumer just needs to know the `name` of the `Artifact`, plus a bit more.\n",
        "\n",
        "That \"bit more\" is the `alias` of the particular version of the `Artifact` you want.\n",
        "\n",
        "By default, the last version to be uploaded is tagged `latest`.\n",
        "Otherwise, you can pick older versions with `v0`/`v1`, etc.,\n",
        "or you can provide your own aliases, like `best` or `jit-script`.\n",
        "Just like [Docker Hub](https://hub.docker.com/) tags,\n",
        "aliases are separated from names with `:`,\n",
        "so the `Artifact` we want is `mnist-raw:latest`.\n",
        "\n",
        "> **Rule of 👍**: Keep aliases short and sweet.\n",
        "Use custom `alias`es like `latest` or `best` when you want an `Artifact`\n",
        "that satisifies some property"
      ]
    },
    {
      "cell_type": "markdown",
      "metadata": {
        "id": "n7BqkQmw43ry"
      },
      "source": [
        "### 📥 `artifact.download`"
      ]
    },
    {
      "cell_type": "markdown",
      "metadata": {
        "id": "Z8FEKtYK43ry"
      },
      "source": [
        "\n",
        "Now, you may be worrying about the `download` call.\n",
        "If we download another copy, won't that double the burden on memory?\n",
        "\n",
        "Don't worry friend. Before we actually download anything,\n",
        "we check to see if the right version is available locally.\n",
        "This uses the same technology that underlies [torrenting](https://en.wikipedia.org/wiki/Torrent_file) and [version control with `git`](https://blog.thoughtram.io/git/2014/11/18/the-anatomy-of-a-git-commit.html): hashing.\n",
        "\n",
        "As `Artifact`s are created and logged,\n",
        "a folder called `artifacts` in the working directory\n",
        "will start to fill with sub-directories,\n",
        "one for each `Artifact`.\n",
        "Check out its contents with `!tree artifacts`:"
      ]
    },
    {
      "cell_type": "code",
      "execution_count": 8,
      "metadata": {
        "colab": {
          "base_uri": "https://localhost:8080/"
        },
        "id": "gyhJRy0S43rz",
        "outputId": "28804dbe-b412-4639-b06f-3d9d36684634"
      },
      "outputs": [
        {
          "output_type": "stream",
          "name": "stdout",
          "text": [
            "artifacts\n",
            "└── mnist-raw:v0\n",
            "    ├── test.pt\n",
            "    ├── training.pt\n",
            "    └── validation.pt\n",
            "\n",
            "1 directory, 3 files\n"
          ]
        }
      ],
      "source": [
        "!tree artifacts"
      ]
    },
    {
      "cell_type": "markdown",
      "metadata": {
        "id": "xBDLVpsF43rz"
      },
      "source": [
        "### 🌐 The Artifacts page on [wandb.ai](https://wandb.ai)\n",
        "\n",
        "Now that we've logged and used an `Artifact`,\n",
        "let's check out the Artifacts tab on the Run page.\n",
        "\n",
        "Navigate to the Run page URL from the `wandb` output\n",
        "and select the \"Artifacts\" tab from the left sidebar\n",
        "(it's the one with the database icon,\n",
        "which looks like three hockey pucks stacked on top of one another).\n",
        "\n",
        "Click a row in either the \"Input Artifacts\" table\n",
        "or in the \"Output Artifacts\" table,\n",
        "then check out the tabs (\"Overview\", \"Metadata\")\n",
        "to see everything logged about the `Artifact`.\n",
        "\n",
        "We particularly like the \"Graph View\".\n",
        "By default, it shows a graph\n",
        "with the `type`s of `Artifact`s\n",
        "and the `job_type`s of `Run` as the two types of nodes,\n",
        "with arrows to represent consumption and production."
      ]
    },
    {
      "cell_type": "markdown",
      "metadata": {
        "id": "FTTgWkoj43rz"
      },
      "source": [
        "# 3️⃣ Log a Model"
      ]
    },
    {
      "cell_type": "markdown",
      "metadata": {
        "id": "5HLqdE7N43rz"
      },
      "source": [
        "That's enough to see how the API for `Artifact`s works,\n",
        "but let's follow this example through to the end of the pipeline\n",
        "so we can see how `Artifact`s can improve your ML workflow.\n",
        "\n",
        "This first cell here builds a DNN `model` in PyTorch -- a really simple ConvNet.\n",
        "\n",
        "We'll start by just initializing the `model`, not training it.\n",
        "That way, we can repeat the training while keeping everything else constant."
      ]
    },
    {
      "cell_type": "code",
      "execution_count": 9,
      "metadata": {
        "id": "lFf-bbNO43rz"
      },
      "outputs": [],
      "source": [
        "from math import floor\n",
        "\n",
        "import torch.nn as nn\n",
        "\n",
        "class ConvNet(nn.Module):\n",
        "    def __init__(self, hidden_layer_sizes=[32, 64],\n",
        "                  kernel_sizes=[3],\n",
        "                  activation=\"ReLU\",\n",
        "                  pool_sizes=[2],\n",
        "                  dropout=0.5,\n",
        "                  num_classes=num_classes,\n",
        "                  input_shape=input_shape):\n",
        "      \n",
        "        super(ConvNet, self).__init__()\n",
        "\n",
        "        self.layer1 = nn.Sequential(\n",
        "              nn.Conv2d(in_channels=input_shape[0], out_channels=hidden_layer_sizes[0], kernel_size=kernel_sizes[0]),\n",
        "              getattr(nn, activation)(),\n",
        "              nn.MaxPool2d(kernel_size=pool_sizes[0])\n",
        "        )\n",
        "        self.layer2 = nn.Sequential(\n",
        "              nn.Conv2d(in_channels=hidden_layer_sizes[0], out_channels=hidden_layer_sizes[-1], kernel_size=kernel_sizes[-1]),\n",
        "              getattr(nn, activation)(),\n",
        "              nn.MaxPool2d(kernel_size=pool_sizes[-1])\n",
        "        )\n",
        "        self.layer3 = nn.Sequential(\n",
        "              nn.Flatten(),\n",
        "              nn.Dropout(dropout)\n",
        "        )\n",
        "\n",
        "        fc_input_dims = floor((input_shape[1] - kernel_sizes[0] + 1) / pool_sizes[0]) # layer 1 output size\n",
        "        fc_input_dims = floor((fc_input_dims - kernel_sizes[-1] + 1) / pool_sizes[-1]) # layer 2 output size\n",
        "        fc_input_dims = fc_input_dims*fc_input_dims*hidden_layer_sizes[-1] # layer 3 output size\n",
        "\n",
        "        self.fc = nn.Linear(fc_input_dims, num_classes)\n",
        "\n",
        "    def forward(self, x):\n",
        "        x = self.layer1(x)\n",
        "        x = self.layer2(x)\n",
        "        x = self.layer3(x)\n",
        "        x = self.fc(x)\n",
        "        return x"
      ]
    },
    {
      "cell_type": "markdown",
      "metadata": {
        "id": "isdjrP8U43r0"
      },
      "source": [
        "Here, we're using W&B to track the run,\n",
        "and so using the [`wandb.config`](https://colab.research.google.com/github/wandb/examples/blob/master/colabs/wandb-config/Configs_in_W%26B.ipynb)\n",
        "object to store all of the hyperparameters.\n",
        "\n",
        "The `dict`ionary version of that `config` object is a really useful piece of `metadata`, so make sure to include it!"
      ]
    },
    {
      "cell_type": "code",
      "execution_count": 10,
      "metadata": {
        "colab": {
          "base_uri": "https://localhost:8080/",
          "height": 155,
          "referenced_widgets": [
            "564eaa58e1ff4d949aea623aad7b20e4",
            "ab7d4850057b498cb63a4d6519b7b3f4",
            "f714ef4c21644345863a871ed01c500c",
            "de4f3e0f5bb44f07aed8b819b177950f",
            "211b0c4db81b489cac749b847d20e594",
            "5e9315680a404b20ac928d358d6ecdb6",
            "b3ceaf5e1c85468ca20c72ccafddd344",
            "84d0585c8ec54009b2e549c8b39479c7"
          ]
        },
        "id": "S4SxXPdD43r0",
        "outputId": "c0f4cc93-dba9-435d-bd6c-ac05e78a33cb"
      },
      "outputs": [
        {
          "output_type": "display_data",
          "data": {
            "text/plain": [
              "<IPython.core.display.HTML object>"
            ],
            "text/html": [
              "Tracking run with wandb version 0.12.11"
            ]
          },
          "metadata": {}
        },
        {
          "output_type": "display_data",
          "data": {
            "text/plain": [
              "<IPython.core.display.HTML object>"
            ],
            "text/html": [
              "Run data is saved locally in <code>/content/wandb/run-20220330_130449-g95ktj86</code>"
            ]
          },
          "metadata": {}
        },
        {
          "output_type": "display_data",
          "data": {
            "text/plain": [
              "<IPython.core.display.HTML object>"
            ],
            "text/html": [
              "Syncing run <strong><a href=\"https://wandb.ai/gustiwinata/artifacts-example/runs/g95ktj86\" target=\"_blank\">absurd-deluge-3</a></strong> to <a href=\"https://wandb.ai/gustiwinata/artifacts-example\" target=\"_blank\">Weights & Biases</a> (<a href=\"https://wandb.me/run\" target=\"_blank\">docs</a>)<br/>"
            ]
          },
          "metadata": {}
        },
        {
          "output_type": "stream",
          "name": "stdout",
          "text": [
            "\n"
          ]
        },
        {
          "output_type": "display_data",
          "data": {
            "text/plain": [
              "<IPython.core.display.HTML object>"
            ],
            "text/html": [
              "Waiting for W&B process to finish... <strong style=\"color:green\">(success).</strong>"
            ]
          },
          "metadata": {}
        },
        {
          "output_type": "display_data",
          "data": {
            "text/plain": [
              "VBox(children=(Label(value='0.270 MB of 0.270 MB uploaded (0.000 MB deduped)\\r'), FloatProgress(value=1.0, max…"
            ],
            "application/vnd.jupyter.widget-view+json": {
              "version_major": 2,
              "version_minor": 0,
              "model_id": "564eaa58e1ff4d949aea623aad7b20e4"
            }
          },
          "metadata": {}
        },
        {
          "output_type": "display_data",
          "data": {
            "text/plain": [
              "<IPython.core.display.HTML object>"
            ],
            "text/html": [
              "Synced <strong style=\"color:#cdcd00\">absurd-deluge-3</strong>: <a href=\"https://wandb.ai/gustiwinata/artifacts-example/runs/g95ktj86\" target=\"_blank\">https://wandb.ai/gustiwinata/artifacts-example/runs/g95ktj86</a><br/>Synced 4 W&B file(s), 0 media file(s), 1 artifact file(s) and 1 other file(s)"
            ]
          },
          "metadata": {}
        },
        {
          "output_type": "display_data",
          "data": {
            "text/plain": [
              "<IPython.core.display.HTML object>"
            ],
            "text/html": [
              "Find logs at: <code>./wandb/run-20220330_130449-g95ktj86/logs</code>"
            ]
          },
          "metadata": {}
        }
      ],
      "source": [
        "def build_model_and_log(config):\n",
        "    with wandb.init(project=\"artifacts-example\", job_type=\"initialize\", config=config) as run:\n",
        "        config = wandb.config\n",
        "        \n",
        "        model = ConvNet(**config)\n",
        "\n",
        "        model_artifact = wandb.Artifact(\n",
        "            \"convnet\", type=\"model\",\n",
        "            description=\"Simple AlexNet style CNN\",\n",
        "            metadata=dict(config))\n",
        "\n",
        "        torch.save(model.state_dict(), \"initialized_model.pth\")\n",
        "        # ➕ another way to add a file to an Artifact\n",
        "        model_artifact.add_file(\"initialized_model.pth\")\n",
        "\n",
        "        wandb.save(\"initialized_model.pth\")\n",
        "\n",
        "        run.log_artifact(model_artifact)\n",
        "\n",
        "model_config = {\"hidden_layer_sizes\": [32, 64],\n",
        "                \"kernel_sizes\": [3],\n",
        "                \"activation\": \"ReLU\",\n",
        "                \"pool_sizes\": [2],\n",
        "                \"dropout\": 0.5,\n",
        "                \"num_classes\": 10}\n",
        "\n",
        "build_model_and_log(model_config)"
      ]
    },
    {
      "cell_type": "markdown",
      "metadata": {
        "id": "fNkh1_LZ43r0"
      },
      "source": [
        "### ➕ `artifact.add_file`"
      ]
    },
    {
      "cell_type": "markdown",
      "metadata": {
        "id": "nbW9AlLr43r0"
      },
      "source": [
        "\n",
        "Instead of simultaneously writing a `new_file` and adding it to the `Artifact`,\n",
        "as in the dataset logging examples,\n",
        "we can also write files in one step\n",
        "(here, `torch.save`)\n",
        "and then `add` them to the `Artifact` in another.\n",
        "\n",
        "> **Rule of 👍**: use `new_file` when you can, to prevent duplication."
      ]
    },
    {
      "cell_type": "markdown",
      "metadata": {
        "id": "iV2U-U3043r1"
      },
      "source": [
        "# 4️⃣ Use a Logged Model Artifact"
      ]
    },
    {
      "cell_type": "markdown",
      "metadata": {
        "id": "AejRRxVI43r1"
      },
      "source": [
        "Just like we could call `use_artifact` on a `dataset`,\n",
        "we can call it on our `initialized_model`\n",
        "to use it in another `Run`.\n",
        "\n",
        "This time, let's `train` the `model`.\n",
        "\n",
        "For more details, check out our Colab on\n",
        "[instrumenting W&B with PyTorch](http://wandb.me/pytorch-colab)."
      ]
    },
    {
      "cell_type": "code",
      "execution_count": 11,
      "metadata": {
        "id": "2N9n_irU43r1"
      },
      "outputs": [],
      "source": [
        "import torch.nn.functional as F\n",
        "\n",
        "def train(model, train_loader, valid_loader, config):\n",
        "    optimizer = getattr(torch.optim, config.optimizer)(model.parameters())\n",
        "    model.train()\n",
        "    example_ct = 0\n",
        "    for epoch in range(config.epochs):\n",
        "        for batch_idx, (data, target) in enumerate(train_loader):\n",
        "            data, target = data.to(device), target.to(device)\n",
        "            optimizer.zero_grad()\n",
        "            output = model(data)\n",
        "            loss = F.cross_entropy(output, target)\n",
        "            loss.backward()\n",
        "            optimizer.step()\n",
        "\n",
        "            example_ct += len(data)\n",
        "\n",
        "            if batch_idx % config.batch_log_interval == 0:\n",
        "                print('Train Epoch: {} [{}/{} ({:.0f}%)]\\tLoss: {:.6f}'.format(\n",
        "                    epoch, batch_idx * len(data), len(train_loader.dataset),\n",
        "                    100. * batch_idx / len(train_loader), loss.item()))\n",
        "                \n",
        "                train_log(loss, example_ct, epoch)\n",
        "\n",
        "        # evaluate the model on the validation set at each epoch\n",
        "        loss, accuracy = test(model, valid_loader)  \n",
        "        test_log(loss, accuracy, example_ct, epoch)\n",
        "\n",
        "    \n",
        "def test(model, test_loader):\n",
        "    model.eval()\n",
        "    test_loss = 0\n",
        "    correct = 0\n",
        "    with torch.no_grad():\n",
        "        for data, target in test_loader:\n",
        "            data, target = data.to(device), target.to(device)\n",
        "            output = model(data)\n",
        "            test_loss += F.cross_entropy(output, target, reduction='sum')  # sum up batch loss\n",
        "            pred = output.argmax(dim=1, keepdim=True)  # get the index of the max log-probability\n",
        "            correct += pred.eq(target.view_as(pred)).sum()\n",
        "\n",
        "    test_loss /= len(test_loader.dataset)\n",
        "\n",
        "    accuracy = 100. * correct / len(test_loader.dataset)\n",
        "    \n",
        "    return test_loss, accuracy\n",
        "\n",
        "\n",
        "def train_log(loss, example_ct, epoch):\n",
        "    loss = float(loss)\n",
        "\n",
        "    # where the magic happens\n",
        "    wandb.log({\"epoch\": epoch, \"train/loss\": loss}, step=example_ct)\n",
        "    print(f\"Loss after \" + str(example_ct).zfill(5) + f\" examples: {loss:.3f}\")\n",
        "    \n",
        "\n",
        "def test_log(loss, accuracy, example_ct, epoch):\n",
        "    loss = float(loss)\n",
        "    accuracy = float(accuracy)\n",
        "\n",
        "    # where the magic happens\n",
        "    wandb.log({\"epoch\": epoch, \"validation/loss\": loss, \"validation/accuracy\": accuracy}, step=example_ct)\n",
        "    print(f\"Loss/accuracy after \" + str(example_ct).zfill(5) + f\" examples: {loss:.3f}/{accuracy:.3f}\")"
      ]
    },
    {
      "cell_type": "markdown",
      "metadata": {
        "id": "G49uc63c43r1"
      },
      "source": [
        "We'll run two separate `Artifact`-producing `Run`s this time.\n",
        "\n",
        "Once the first finishes `train`ing the `model`,\n",
        "the `second` will consume the `trained-model` `Artifact`\n",
        "by `evaluate`ing its performance on the `test_dataset`.\n",
        "\n",
        "Also, we'll pull out the 32 examples on which the network gets the most confused --\n",
        "on which the `categorical_crossentropy` is highest.\n",
        "\n",
        "This is a good way to diagnose issues with your dataset and your model!"
      ]
    },
    {
      "cell_type": "code",
      "execution_count": 12,
      "metadata": {
        "id": "ZSnBTmR143r1"
      },
      "outputs": [],
      "source": [
        "def evaluate(model, test_loader):\n",
        "    \"\"\"\n",
        "    ## Evaluate the trained model\n",
        "    \"\"\"\n",
        "\n",
        "    loss, accuracy = test(model, test_loader)\n",
        "    highest_losses, hardest_examples, true_labels, predictions = get_hardest_k_examples(model, test_loader.dataset)\n",
        "\n",
        "    return loss, accuracy, highest_losses, hardest_examples, true_labels, predictions\n",
        "\n",
        "def get_hardest_k_examples(model, testing_set, k=32):\n",
        "    model.eval()\n",
        "\n",
        "    loader = DataLoader(testing_set, 1, shuffle=False)\n",
        "\n",
        "    # get the losses and predictions for each item in the dataset\n",
        "    losses = None\n",
        "    predictions = None\n",
        "    with torch.no_grad():\n",
        "        for data, target in loader:\n",
        "            data, target = data.to(device), target.to(device)\n",
        "            output = model(data)\n",
        "            loss = F.cross_entropy(output, target)\n",
        "            pred = output.argmax(dim=1, keepdim=True)\n",
        "            \n",
        "            if losses is None:\n",
        "                losses = loss.view((1, 1))\n",
        "                predictions = pred\n",
        "            else:\n",
        "                losses = torch.cat((losses, loss.view((1, 1))), 0)\n",
        "                predictions = torch.cat((predictions, pred), 0)\n",
        "\n",
        "    argsort_loss = torch.argsort(losses, dim=0)\n",
        "\n",
        "    highest_k_losses = losses[argsort_loss[-k:]]\n",
        "    hardest_k_examples = testing_set[argsort_loss[-k:]][0]\n",
        "    true_labels = testing_set[argsort_loss[-k:]][1]\n",
        "\n",
        "    return highest_k_losses, hardest_k_examples, true_labels, predictions"
      ]
    },
    {
      "cell_type": "markdown",
      "metadata": {
        "id": "AX4lEJaB43r2"
      },
      "source": [
        "These logging functions don't add any new `Artifact` features,\n",
        "so we won't comment on them:\n",
        "we're just `use`ing, `download`ing,\n",
        "and `log`ging `Artifact`s."
      ]
    },
    {
      "cell_type": "code",
      "execution_count": 13,
      "metadata": {
        "id": "f8EXyR_D43r2"
      },
      "outputs": [],
      "source": [
        "from torch.utils.data import DataLoader\n",
        "\n",
        "def train_and_log(config):\n",
        "\n",
        "    with wandb.init(project=\"artifacts-example\", job_type=\"train\", config=config) as run:\n",
        "        config = wandb.config\n",
        "\n",
        "        data = run.use_artifact('mnist-preprocess:latest')\n",
        "        data_dir = data.download()\n",
        "\n",
        "        training_dataset =  read(data_dir, \"training\")\n",
        "        validation_dataset = read(data_dir, \"validation\")\n",
        "\n",
        "        train_loader = DataLoader(training_dataset, batch_size=config.batch_size)\n",
        "        validation_loader = DataLoader(validation_dataset, batch_size=config.batch_size)\n",
        "        \n",
        "        model_artifact = run.use_artifact(\"convnet:latest\")\n",
        "        model_dir = model_artifact.download()\n",
        "        model_path = os.path.join(model_dir, \"initialized_model.pth\")\n",
        "        model_config = model_artifact.metadata\n",
        "        config.update(model_config)\n",
        "\n",
        "        model = ConvNet(**model_config)\n",
        "        model.load_state_dict(torch.load(model_path))\n",
        "        model = model.to(device)\n",
        " \n",
        "        train(model, train_loader, validation_loader, config)\n",
        "\n",
        "        model_artifact = wandb.Artifact(\n",
        "            \"trained-model\", type=\"model\",\n",
        "            description=\"Trained NN model\",\n",
        "            metadata=dict(model_config))\n",
        "\n",
        "        torch.save(model.state_dict(), \"trained_model.pth\")\n",
        "        model_artifact.add_file(\"trained_model.pth\")\n",
        "        wandb.save(\"trained_model.pth\")\n",
        "\n",
        "        run.log_artifact(model_artifact)\n",
        "\n",
        "    return model\n",
        "\n",
        "    \n",
        "def evaluate_and_log(config=None):\n",
        "    \n",
        "    with wandb.init(project=\"artifacts-example\", job_type=\"report\", config=config) as run:\n",
        "        data = run.use_artifact('mnist-preprocess:latest')\n",
        "        data_dir = data.download()\n",
        "        testing_set = read(data_dir, \"test\")\n",
        "\n",
        "        test_loader = torch.utils.data.DataLoader(testing_set, batch_size=128, shuffle=False)\n",
        "\n",
        "        model_artifact = run.use_artifact(\"trained-model:latest\")\n",
        "        model_dir = model_artifact.download()\n",
        "        model_path = os.path.join(model_dir, \"trained_model.pth\")\n",
        "        model_config = model_artifact.metadata\n",
        "\n",
        "        model = ConvNet(**model_config)\n",
        "        model.load_state_dict(torch.load(model_path))\n",
        "        model.to(device)\n",
        "\n",
        "        loss, accuracy, highest_losses, hardest_examples, true_labels, preds = evaluate(model, test_loader)\n",
        "\n",
        "        run.summary.update({\"loss\": loss, \"accuracy\": accuracy})\n",
        "\n",
        "        wandb.log({\"high-loss-examples\":\n",
        "            [wandb.Image(hard_example, caption=str(int(pred)) + \",\" +  str(int(label)))\n",
        "             for hard_example, pred, label in zip(hardest_examples, preds, true_labels)]})"
      ]
    },
    {
      "cell_type": "code",
      "execution_count": 14,
      "metadata": {
        "colab": {
          "base_uri": "https://localhost:8080/",
          "height": 1000,
          "referenced_widgets": [
            "e709b9e5c6c448969c6ea35d3d3ab640",
            "005114c24f5b4ef995c691b33ef0f6b5",
            "ac179b6dd9aa48889e4dc49777d0ae36",
            "c014cfd7eca847d38d6d18687ff233cd",
            "24b62381fa4243ddb6a1a32f7dd2a93d",
            "669bf57a43614817996fa3123ffe5251",
            "0079d1ba8f1845f580348a75d62e2a72",
            "1467f5013cd84d79b1c46d193e1b1947",
            "a94aff14a237429aa4d6331d90a21a4e",
            "2943187f9d47408e8b9028ffffcb60a5",
            "cb51c920eee140e58de8a5bd532df741",
            "a03597bb97b34befaa4dbea16b97c78f",
            "e80b9f6b420348c0aba89cf8ff5983cc",
            "7c99869fed204be2b04e0d0e66a623b0",
            "fd1f3fff17c7432895a8913c9bf67bc7",
            "98540c5fcd1741918973a053fa7dc1eb"
          ]
        },
        "id": "wwjpLKvD43r2",
        "outputId": "f7cdfbc4-34d9-484f-adab-842b03ecfd43"
      },
      "outputs": [
        {
          "output_type": "display_data",
          "data": {
            "text/plain": [
              "<IPython.core.display.HTML object>"
            ],
            "text/html": [
              "Tracking run with wandb version 0.12.11"
            ]
          },
          "metadata": {}
        },
        {
          "output_type": "display_data",
          "data": {
            "text/plain": [
              "<IPython.core.display.HTML object>"
            ],
            "text/html": [
              "Run data is saved locally in <code>/content/wandb/run-20220330_130720-13v6801z</code>"
            ]
          },
          "metadata": {}
        },
        {
          "output_type": "display_data",
          "data": {
            "text/plain": [
              "<IPython.core.display.HTML object>"
            ],
            "text/html": [
              "Syncing run <strong><a href=\"https://wandb.ai/gustiwinata/artifacts-example/runs/13v6801z\" target=\"_blank\">misunderstood-sun-4</a></strong> to <a href=\"https://wandb.ai/gustiwinata/artifacts-example\" target=\"_blank\">Weights & Biases</a> (<a href=\"https://wandb.me/run\" target=\"_blank\">docs</a>)<br/>"
            ]
          },
          "metadata": {}
        },
        {
          "output_type": "stream",
          "name": "stderr",
          "text": [
            "\u001b[34m\u001b[1mwandb\u001b[0m: Downloading large artifact mnist-preprocess:latest, 210.35MB. 3 files... Done. 0:0:0\n"
          ]
        },
        {
          "output_type": "stream",
          "name": "stdout",
          "text": [
            "Train Epoch: 0 [0/50000 (0%)]\tLoss: 2.330907\n",
            "Loss after 00128 examples: 2.331\n",
            "Train Epoch: 0 [3200/50000 (6%)]\tLoss: 1.046478\n",
            "Loss after 03328 examples: 1.046\n",
            "Train Epoch: 0 [6400/50000 (13%)]\tLoss: 0.528566\n",
            "Loss after 06528 examples: 0.529\n",
            "Train Epoch: 0 [9600/50000 (19%)]\tLoss: 0.354151\n",
            "Loss after 09728 examples: 0.354\n",
            "Train Epoch: 0 [12800/50000 (26%)]\tLoss: 0.212497\n",
            "Loss after 12928 examples: 0.212\n",
            "Train Epoch: 0 [16000/50000 (32%)]\tLoss: 0.324410\n",
            "Loss after 16128 examples: 0.324\n",
            "Train Epoch: 0 [19200/50000 (38%)]\tLoss: 0.188895\n",
            "Loss after 19328 examples: 0.189\n",
            "Train Epoch: 0 [22400/50000 (45%)]\tLoss: 0.234489\n",
            "Loss after 22528 examples: 0.234\n",
            "Train Epoch: 0 [25600/50000 (51%)]\tLoss: 0.143762\n",
            "Loss after 25728 examples: 0.144\n",
            "Train Epoch: 0 [28800/50000 (58%)]\tLoss: 0.105055\n",
            "Loss after 28928 examples: 0.105\n",
            "Train Epoch: 0 [32000/50000 (64%)]\tLoss: 0.257695\n",
            "Loss after 32128 examples: 0.258\n",
            "Train Epoch: 0 [35200/50000 (70%)]\tLoss: 0.124185\n",
            "Loss after 35328 examples: 0.124\n",
            "Train Epoch: 0 [38400/50000 (77%)]\tLoss: 0.124630\n",
            "Loss after 38528 examples: 0.125\n",
            "Train Epoch: 0 [41600/50000 (83%)]\tLoss: 0.121159\n",
            "Loss after 41728 examples: 0.121\n",
            "Train Epoch: 0 [44800/50000 (90%)]\tLoss: 0.244945\n",
            "Loss after 44928 examples: 0.245\n",
            "Train Epoch: 0 [48000/50000 (96%)]\tLoss: 0.121178\n",
            "Loss after 48128 examples: 0.121\n",
            "Loss/accuracy after 50000 examples: 0.095/97.460\n",
            "Train Epoch: 1 [0/50000 (0%)]\tLoss: 0.127333\n",
            "Loss after 50128 examples: 0.127\n",
            "Train Epoch: 1 [3200/50000 (6%)]\tLoss: 0.068671\n",
            "Loss after 53328 examples: 0.069\n",
            "Train Epoch: 1 [6400/50000 (13%)]\tLoss: 0.109155\n",
            "Loss after 56528 examples: 0.109\n",
            "Train Epoch: 1 [9600/50000 (19%)]\tLoss: 0.092774\n",
            "Loss after 59728 examples: 0.093\n",
            "Train Epoch: 1 [12800/50000 (26%)]\tLoss: 0.058163\n",
            "Loss after 62928 examples: 0.058\n",
            "Train Epoch: 1 [16000/50000 (32%)]\tLoss: 0.095856\n",
            "Loss after 66128 examples: 0.096\n",
            "Train Epoch: 1 [19200/50000 (38%)]\tLoss: 0.070031\n",
            "Loss after 69328 examples: 0.070\n",
            "Train Epoch: 1 [22400/50000 (45%)]\tLoss: 0.063621\n",
            "Loss after 72528 examples: 0.064\n",
            "Train Epoch: 1 [25600/50000 (51%)]\tLoss: 0.074969\n",
            "Loss after 75728 examples: 0.075\n",
            "Train Epoch: 1 [28800/50000 (58%)]\tLoss: 0.033874\n",
            "Loss after 78928 examples: 0.034\n",
            "Train Epoch: 1 [32000/50000 (64%)]\tLoss: 0.123119\n",
            "Loss after 82128 examples: 0.123\n",
            "Train Epoch: 1 [35200/50000 (70%)]\tLoss: 0.075718\n",
            "Loss after 85328 examples: 0.076\n",
            "Train Epoch: 1 [38400/50000 (77%)]\tLoss: 0.088217\n",
            "Loss after 88528 examples: 0.088\n",
            "Train Epoch: 1 [41600/50000 (83%)]\tLoss: 0.047397\n",
            "Loss after 91728 examples: 0.047\n",
            "Train Epoch: 1 [44800/50000 (90%)]\tLoss: 0.104035\n",
            "Loss after 94928 examples: 0.104\n",
            "Train Epoch: 1 [48000/50000 (96%)]\tLoss: 0.052978\n",
            "Loss after 98128 examples: 0.053\n",
            "Loss/accuracy after 100000 examples: 0.064/98.170\n",
            "Train Epoch: 2 [0/50000 (0%)]\tLoss: 0.073118\n",
            "Loss after 100128 examples: 0.073\n",
            "Train Epoch: 2 [3200/50000 (6%)]\tLoss: 0.028056\n",
            "Loss after 103328 examples: 0.028\n",
            "Train Epoch: 2 [6400/50000 (13%)]\tLoss: 0.100481\n",
            "Loss after 106528 examples: 0.100\n",
            "Train Epoch: 2 [9600/50000 (19%)]\tLoss: 0.048005\n",
            "Loss after 109728 examples: 0.048\n",
            "Train Epoch: 2 [12800/50000 (26%)]\tLoss: 0.044971\n",
            "Loss after 112928 examples: 0.045\n",
            "Train Epoch: 2 [16000/50000 (32%)]\tLoss: 0.051776\n",
            "Loss after 116128 examples: 0.052\n",
            "Train Epoch: 2 [19200/50000 (38%)]\tLoss: 0.043385\n",
            "Loss after 119328 examples: 0.043\n",
            "Train Epoch: 2 [22400/50000 (45%)]\tLoss: 0.038323\n",
            "Loss after 122528 examples: 0.038\n",
            "Train Epoch: 2 [25600/50000 (51%)]\tLoss: 0.053508\n",
            "Loss after 125728 examples: 0.054\n",
            "Train Epoch: 2 [28800/50000 (58%)]\tLoss: 0.018973\n",
            "Loss after 128928 examples: 0.019\n",
            "Train Epoch: 2 [32000/50000 (64%)]\tLoss: 0.086900\n",
            "Loss after 132128 examples: 0.087\n",
            "Train Epoch: 2 [35200/50000 (70%)]\tLoss: 0.064578\n",
            "Loss after 135328 examples: 0.065\n",
            "Train Epoch: 2 [38400/50000 (77%)]\tLoss: 0.085038\n",
            "Loss after 138528 examples: 0.085\n",
            "Train Epoch: 2 [41600/50000 (83%)]\tLoss: 0.037822\n",
            "Loss after 141728 examples: 0.038\n",
            "Train Epoch: 2 [44800/50000 (90%)]\tLoss: 0.061811\n",
            "Loss after 144928 examples: 0.062\n",
            "Train Epoch: 2 [48000/50000 (96%)]\tLoss: 0.040236\n",
            "Loss after 148128 examples: 0.040\n",
            "Loss/accuracy after 150000 examples: 0.056/98.400\n",
            "Train Epoch: 3 [0/50000 (0%)]\tLoss: 0.054201\n",
            "Loss after 150128 examples: 0.054\n",
            "Train Epoch: 3 [3200/50000 (6%)]\tLoss: 0.019437\n",
            "Loss after 153328 examples: 0.019\n",
            "Train Epoch: 3 [6400/50000 (13%)]\tLoss: 0.094917\n",
            "Loss after 156528 examples: 0.095\n",
            "Train Epoch: 3 [9600/50000 (19%)]\tLoss: 0.027679\n",
            "Loss after 159728 examples: 0.028\n",
            "Train Epoch: 3 [12800/50000 (26%)]\tLoss: 0.032702\n",
            "Loss after 162928 examples: 0.033\n",
            "Train Epoch: 3 [16000/50000 (32%)]\tLoss: 0.038932\n",
            "Loss after 166128 examples: 0.039\n",
            "Train Epoch: 3 [19200/50000 (38%)]\tLoss: 0.030211\n",
            "Loss after 169328 examples: 0.030\n",
            "Train Epoch: 3 [22400/50000 (45%)]\tLoss: 0.024151\n",
            "Loss after 172528 examples: 0.024\n",
            "Train Epoch: 3 [25600/50000 (51%)]\tLoss: 0.044129\n",
            "Loss after 175728 examples: 0.044\n",
            "Train Epoch: 3 [28800/50000 (58%)]\tLoss: 0.011430\n",
            "Loss after 178928 examples: 0.011\n",
            "Train Epoch: 3 [32000/50000 (64%)]\tLoss: 0.057595\n",
            "Loss after 182128 examples: 0.058\n",
            "Train Epoch: 3 [35200/50000 (70%)]\tLoss: 0.059606\n",
            "Loss after 185328 examples: 0.060\n",
            "Train Epoch: 3 [38400/50000 (77%)]\tLoss: 0.077886\n",
            "Loss after 188528 examples: 0.078\n",
            "Train Epoch: 3 [41600/50000 (83%)]\tLoss: 0.032399\n",
            "Loss after 191728 examples: 0.032\n",
            "Train Epoch: 3 [44800/50000 (90%)]\tLoss: 0.040744\n",
            "Loss after 194928 examples: 0.041\n",
            "Train Epoch: 3 [48000/50000 (96%)]\tLoss: 0.029688\n",
            "Loss after 198128 examples: 0.030\n",
            "Loss/accuracy after 200000 examples: 0.052/98.490\n",
            "Train Epoch: 4 [0/50000 (0%)]\tLoss: 0.043636\n",
            "Loss after 200128 examples: 0.044\n",
            "Train Epoch: 4 [3200/50000 (6%)]\tLoss: 0.017752\n",
            "Loss after 203328 examples: 0.018\n",
            "Train Epoch: 4 [6400/50000 (13%)]\tLoss: 0.090908\n",
            "Loss after 206528 examples: 0.091\n",
            "Train Epoch: 4 [9600/50000 (19%)]\tLoss: 0.017628\n",
            "Loss after 209728 examples: 0.018\n",
            "Train Epoch: 4 [12800/50000 (26%)]\tLoss: 0.029510\n",
            "Loss after 212928 examples: 0.030\n",
            "Train Epoch: 4 [16000/50000 (32%)]\tLoss: 0.032625\n",
            "Loss after 216128 examples: 0.033\n",
            "Train Epoch: 4 [19200/50000 (38%)]\tLoss: 0.022898\n",
            "Loss after 219328 examples: 0.023\n",
            "Train Epoch: 4 [22400/50000 (45%)]\tLoss: 0.020660\n",
            "Loss after 222528 examples: 0.021\n",
            "Train Epoch: 4 [25600/50000 (51%)]\tLoss: 0.040970\n",
            "Loss after 225728 examples: 0.041\n",
            "Train Epoch: 4 [28800/50000 (58%)]\tLoss: 0.008390\n",
            "Loss after 228928 examples: 0.008\n",
            "Train Epoch: 4 [32000/50000 (64%)]\tLoss: 0.042012\n",
            "Loss after 232128 examples: 0.042\n",
            "Train Epoch: 4 [35200/50000 (70%)]\tLoss: 0.052185\n",
            "Loss after 235328 examples: 0.052\n",
            "Train Epoch: 4 [38400/50000 (77%)]\tLoss: 0.069796\n",
            "Loss after 238528 examples: 0.070\n",
            "Train Epoch: 4 [41600/50000 (83%)]\tLoss: 0.027881\n",
            "Loss after 241728 examples: 0.028\n",
            "Train Epoch: 4 [44800/50000 (90%)]\tLoss: 0.030643\n",
            "Loss after 244928 examples: 0.031\n",
            "Train Epoch: 4 [48000/50000 (96%)]\tLoss: 0.018847\n",
            "Loss after 248128 examples: 0.019\n",
            "Loss/accuracy after 250000 examples: 0.049/98.650\n",
            "\n"
          ]
        },
        {
          "output_type": "display_data",
          "data": {
            "text/plain": [
              "<IPython.core.display.HTML object>"
            ],
            "text/html": [
              "Waiting for W&B process to finish... <strong style=\"color:green\">(success).</strong>"
            ]
          },
          "metadata": {}
        },
        {
          "output_type": "display_data",
          "data": {
            "text/plain": [
              "VBox(children=(Label(value='0.270 MB of 0.270 MB uploaded (0.000 MB deduped)\\r'), FloatProgress(value=1.0, max…"
            ],
            "application/vnd.jupyter.widget-view+json": {
              "version_major": 2,
              "version_minor": 0,
              "model_id": "e709b9e5c6c448969c6ea35d3d3ab640"
            }
          },
          "metadata": {}
        },
        {
          "output_type": "display_data",
          "data": {
            "text/plain": [
              "<IPython.core.display.HTML object>"
            ],
            "text/html": [
              "<style>\n",
              "    table.wandb td:nth-child(1) { padding: 0 10px; text-align: right }\n",
              "    .wandb-row { display: flex; flex-direction: row; flex-wrap: wrap; width: 100% }\n",
              "    .wandb-col { display: flex; flex-direction: column; flex-basis: 100%; flex: 1; padding: 10px; }\n",
              "    </style>\n",
              "<div class=\"wandb-row\"><div class=\"wandb-col\"><h3>Run history:</h3><br/><table class=\"wandb\"><tr><td>epoch</td><td>▁▁▁▁▁▁▁▁▃▃▃▃▃▃▃▃▅▅▅▅▅▅▅▅▆▆▆▆▆▆▆▆████████</td></tr><tr><td>train/loss</td><td>█▃▂▂▁▂▁▂▁▁▁▁▁▁▁▁▁▁▁▁▁▁▁▁▁▁▁▁▁▁▁▁▁▁▁▁▁▁▁▁</td></tr><tr><td>validation/accuracy</td><td>▁▅▇▇█</td></tr><tr><td>validation/loss</td><td>█▃▂▁▁</td></tr></table><br/></div><div class=\"wandb-col\"><h3>Run summary:</h3><br/><table class=\"wandb\"><tr><td>epoch</td><td>4</td></tr><tr><td>train/loss</td><td>0.01885</td></tr><tr><td>validation/accuracy</td><td>98.65</td></tr><tr><td>validation/loss</td><td>0.04875</td></tr></table><br/></div></div>"
            ]
          },
          "metadata": {}
        },
        {
          "output_type": "display_data",
          "data": {
            "text/plain": [
              "<IPython.core.display.HTML object>"
            ],
            "text/html": [
              "Synced <strong style=\"color:#cdcd00\">misunderstood-sun-4</strong>: <a href=\"https://wandb.ai/gustiwinata/artifacts-example/runs/13v6801z\" target=\"_blank\">https://wandb.ai/gustiwinata/artifacts-example/runs/13v6801z</a><br/>Synced 5 W&B file(s), 0 media file(s), 1 artifact file(s) and 1 other file(s)"
            ]
          },
          "metadata": {}
        },
        {
          "output_type": "display_data",
          "data": {
            "text/plain": [
              "<IPython.core.display.HTML object>"
            ],
            "text/html": [
              "Find logs at: <code>./wandb/run-20220330_130720-13v6801z/logs</code>"
            ]
          },
          "metadata": {}
        },
        {
          "output_type": "display_data",
          "data": {
            "text/plain": [
              "<IPython.core.display.HTML object>"
            ],
            "text/html": [
              "Tracking run with wandb version 0.12.11"
            ]
          },
          "metadata": {}
        },
        {
          "output_type": "display_data",
          "data": {
            "text/plain": [
              "<IPython.core.display.HTML object>"
            ],
            "text/html": [
              "Run data is saved locally in <code>/content/wandb/run-20220330_131109-f8ax92ce</code>"
            ]
          },
          "metadata": {}
        },
        {
          "output_type": "display_data",
          "data": {
            "text/plain": [
              "<IPython.core.display.HTML object>"
            ],
            "text/html": [
              "Syncing run <strong><a href=\"https://wandb.ai/gustiwinata/artifacts-example/runs/f8ax92ce\" target=\"_blank\">clean-sunset-5</a></strong> to <a href=\"https://wandb.ai/gustiwinata/artifacts-example\" target=\"_blank\">Weights & Biases</a> (<a href=\"https://wandb.me/run\" target=\"_blank\">docs</a>)<br/>"
            ]
          },
          "metadata": {}
        },
        {
          "output_type": "stream",
          "name": "stderr",
          "text": [
            "\u001b[34m\u001b[1mwandb\u001b[0m: Downloading large artifact mnist-preprocess:latest, 210.35MB. 3 files... Done. 0:0:0\n"
          ]
        },
        {
          "output_type": "stream",
          "name": "stdout",
          "text": [
            "\n"
          ]
        },
        {
          "output_type": "display_data",
          "data": {
            "text/plain": [
              "<IPython.core.display.HTML object>"
            ],
            "text/html": [
              "Waiting for W&B process to finish... <strong style=\"color:green\">(success).</strong>"
            ]
          },
          "metadata": {}
        },
        {
          "output_type": "display_data",
          "data": {
            "text/plain": [
              "VBox(children=(Label(value='0.005 MB of 0.015 MB uploaded (0.000 MB deduped)\\r'), FloatProgress(value=0.317530…"
            ],
            "application/vnd.jupyter.widget-view+json": {
              "version_major": 2,
              "version_minor": 0,
              "model_id": "a94aff14a237429aa4d6331d90a21a4e"
            }
          },
          "metadata": {}
        },
        {
          "output_type": "display_data",
          "data": {
            "text/plain": [
              "<IPython.core.display.HTML object>"
            ],
            "text/html": [
              "<style>\n",
              "    table.wandb td:nth-child(1) { padding: 0 10px; text-align: right }\n",
              "    .wandb-row { display: flex; flex-direction: row; flex-wrap: wrap; width: 100% }\n",
              "    .wandb-col { display: flex; flex-direction: column; flex-basis: 100%; flex: 1; padding: 10px; }\n",
              "    </style>\n",
              "<div class=\"wandb-row\"><div class=\"wandb-col\"><h3>Run summary:</h3><br/><table class=\"wandb\"><tr><td>accuracy</td><td>98.85</td></tr><tr><td>loss</td><td>0.03651</td></tr></table><br/></div></div>"
            ]
          },
          "metadata": {}
        },
        {
          "output_type": "display_data",
          "data": {
            "text/plain": [
              "<IPython.core.display.HTML object>"
            ],
            "text/html": [
              "Synced <strong style=\"color:#cdcd00\">clean-sunset-5</strong>: <a href=\"https://wandb.ai/gustiwinata/artifacts-example/runs/f8ax92ce\" target=\"_blank\">https://wandb.ai/gustiwinata/artifacts-example/runs/f8ax92ce</a><br/>Synced 5 W&B file(s), 32 media file(s), 0 artifact file(s) and 0 other file(s)"
            ]
          },
          "metadata": {}
        },
        {
          "output_type": "display_data",
          "data": {
            "text/plain": [
              "<IPython.core.display.HTML object>"
            ],
            "text/html": [
              "Find logs at: <code>./wandb/run-20220330_131109-f8ax92ce/logs</code>"
            ]
          },
          "metadata": {}
        }
      ],
      "source": [
        "train_config = {\"batch_size\": 128,\n",
        "                \"epochs\": 5,\n",
        "                \"batch_log_interval\": 25,\n",
        "                \"optimizer\": \"Adam\"}\n",
        "\n",
        "model = train_and_log(train_config)\n",
        "evaluate_and_log()"
      ]
    },
    {
      "cell_type": "markdown",
      "metadata": {
        "id": "AH5Fw4pV43r2"
      },
      "source": [
        "### 🔁 The Graph View\n",
        "\n",
        "Notice that we changed the `type` of the `Artifact`:\n",
        "these `Run`s used a `model`, rather than `dataset`.\n",
        "`Run`s that produce `model`s will be separated\n",
        "from those that produce `dataset`s in the graph view on the Artifacts page.\n",
        "\n",
        "Go check it out! As before, you'll want to head to the Run page,\n",
        "select the \"Artifacts\" tab from the left sidebar,\n",
        "pick an `Artifact`,\n",
        "and then click the \"Graph View\" tab."
      ]
    },
    {
      "cell_type": "markdown",
      "metadata": {
        "id": "nlASAFgk43r3"
      },
      "source": [
        "\n",
        "### 💣 Exploded Graphs"
      ]
    },
    {
      "cell_type": "markdown",
      "metadata": {
        "id": "PDuu1rJ043r3"
      },
      "source": [
        "You may have noticed a button labeled \"Explode\". Don't click that, as it will set off a small bomb underneath your humble author's desk in the W&B HQ!\n",
        "\n",
        "Just kidding. It \"explodes\" the graph in a much gentler way:\n",
        "`Artifact`s and `Run`s become separated at the level of a single instance,\n",
        "rather than a `type`:\n",
        "the nodes are not `dataset` and `load-data`, but `dataset:mnist-raw:v1` and `load-data:sunny-smoke-1`, and so on.\n",
        "\n",
        "This provides total insight into your pipeline,\n",
        "with logged metrics, metadata, and more\n",
        "all at your fingertips --\n",
        "you're only limited by what you choose to log with us."
      ]
    }
  ],
  "metadata": {
    "colab": {
      "name": "Pipeline_Versioning_with_W&B_Artifacts.ipynb",
      "provenance": [],
      "include_colab_link": true
    },
    "kernelspec": {
      "display_name": "Python 3",
      "name": "python3"
    },
    "widgets": {
      "application/vnd.jupyter.widget-state+json": {
        "fdfaa06e31bc47ab86dfeb6c89378632": {
          "model_module": "@jupyter-widgets/controls",
          "model_name": "HBoxModel",
          "model_module_version": "1.5.0",
          "state": {
            "_dom_classes": [],
            "_model_module": "@jupyter-widgets/controls",
            "_model_module_version": "1.5.0",
            "_model_name": "HBoxModel",
            "_view_count": null,
            "_view_module": "@jupyter-widgets/controls",
            "_view_module_version": "1.5.0",
            "_view_name": "HBoxView",
            "box_style": "",
            "children": [
              "IPY_MODEL_63d47d471dfd4c319635e9b6a3530da1",
              "IPY_MODEL_e70a28f11b63489cb572fc36f4190b41",
              "IPY_MODEL_3a375b9366af45498086b52048f0aeac"
            ],
            "layout": "IPY_MODEL_d63ac15af8c74d1cb8172a5a46db7897"
          }
        },
        "63d47d471dfd4c319635e9b6a3530da1": {
          "model_module": "@jupyter-widgets/controls",
          "model_name": "HTMLModel",
          "model_module_version": "1.5.0",
          "state": {
            "_dom_classes": [],
            "_model_module": "@jupyter-widgets/controls",
            "_model_module_version": "1.5.0",
            "_model_name": "HTMLModel",
            "_view_count": null,
            "_view_module": "@jupyter-widgets/controls",
            "_view_module_version": "1.5.0",
            "_view_name": "HTMLView",
            "description": "",
            "description_tooltip": null,
            "layout": "IPY_MODEL_d92fc8728530490e87736dbd4efc052e",
            "placeholder": "​",
            "style": "IPY_MODEL_e183cae2f2554b8cba256168b33e8cf2",
            "value": ""
          }
        },
        "e70a28f11b63489cb572fc36f4190b41": {
          "model_module": "@jupyter-widgets/controls",
          "model_name": "FloatProgressModel",
          "model_module_version": "1.5.0",
          "state": {
            "_dom_classes": [],
            "_model_module": "@jupyter-widgets/controls",
            "_model_module_version": "1.5.0",
            "_model_name": "FloatProgressModel",
            "_view_count": null,
            "_view_module": "@jupyter-widgets/controls",
            "_view_module_version": "1.5.0",
            "_view_name": "ProgressView",
            "bar_style": "success",
            "description": "",
            "description_tooltip": null,
            "layout": "IPY_MODEL_1e3a6ca1c7ea43bfbe3af021ceff3597",
            "max": 9912422,
            "min": 0,
            "orientation": "horizontal",
            "style": "IPY_MODEL_57d820a0843e41d1bd056e1d9d889edf",
            "value": 9912422
          }
        },
        "3a375b9366af45498086b52048f0aeac": {
          "model_module": "@jupyter-widgets/controls",
          "model_name": "HTMLModel",
          "model_module_version": "1.5.0",
          "state": {
            "_dom_classes": [],
            "_model_module": "@jupyter-widgets/controls",
            "_model_module_version": "1.5.0",
            "_model_name": "HTMLModel",
            "_view_count": null,
            "_view_module": "@jupyter-widgets/controls",
            "_view_module_version": "1.5.0",
            "_view_name": "HTMLView",
            "description": "",
            "description_tooltip": null,
            "layout": "IPY_MODEL_90d9702271bc46aea846aeb3a6401afe",
            "placeholder": "​",
            "style": "IPY_MODEL_6dc8053002aa408a9ca5d8d4132821bf",
            "value": " 9913344/? [00:00&lt;00:00, 46777825.26it/s]"
          }
        },
        "d63ac15af8c74d1cb8172a5a46db7897": {
          "model_module": "@jupyter-widgets/base",
          "model_name": "LayoutModel",
          "model_module_version": "1.2.0",
          "state": {
            "_model_module": "@jupyter-widgets/base",
            "_model_module_version": "1.2.0",
            "_model_name": "LayoutModel",
            "_view_count": null,
            "_view_module": "@jupyter-widgets/base",
            "_view_module_version": "1.2.0",
            "_view_name": "LayoutView",
            "align_content": null,
            "align_items": null,
            "align_self": null,
            "border": null,
            "bottom": null,
            "display": null,
            "flex": null,
            "flex_flow": null,
            "grid_area": null,
            "grid_auto_columns": null,
            "grid_auto_flow": null,
            "grid_auto_rows": null,
            "grid_column": null,
            "grid_gap": null,
            "grid_row": null,
            "grid_template_areas": null,
            "grid_template_columns": null,
            "grid_template_rows": null,
            "height": null,
            "justify_content": null,
            "justify_items": null,
            "left": null,
            "margin": null,
            "max_height": null,
            "max_width": null,
            "min_height": null,
            "min_width": null,
            "object_fit": null,
            "object_position": null,
            "order": null,
            "overflow": null,
            "overflow_x": null,
            "overflow_y": null,
            "padding": null,
            "right": null,
            "top": null,
            "visibility": null,
            "width": null
          }
        },
        "d92fc8728530490e87736dbd4efc052e": {
          "model_module": "@jupyter-widgets/base",
          "model_name": "LayoutModel",
          "model_module_version": "1.2.0",
          "state": {
            "_model_module": "@jupyter-widgets/base",
            "_model_module_version": "1.2.0",
            "_model_name": "LayoutModel",
            "_view_count": null,
            "_view_module": "@jupyter-widgets/base",
            "_view_module_version": "1.2.0",
            "_view_name": "LayoutView",
            "align_content": null,
            "align_items": null,
            "align_self": null,
            "border": null,
            "bottom": null,
            "display": null,
            "flex": null,
            "flex_flow": null,
            "grid_area": null,
            "grid_auto_columns": null,
            "grid_auto_flow": null,
            "grid_auto_rows": null,
            "grid_column": null,
            "grid_gap": null,
            "grid_row": null,
            "grid_template_areas": null,
            "grid_template_columns": null,
            "grid_template_rows": null,
            "height": null,
            "justify_content": null,
            "justify_items": null,
            "left": null,
            "margin": null,
            "max_height": null,
            "max_width": null,
            "min_height": null,
            "min_width": null,
            "object_fit": null,
            "object_position": null,
            "order": null,
            "overflow": null,
            "overflow_x": null,
            "overflow_y": null,
            "padding": null,
            "right": null,
            "top": null,
            "visibility": null,
            "width": null
          }
        },
        "e183cae2f2554b8cba256168b33e8cf2": {
          "model_module": "@jupyter-widgets/controls",
          "model_name": "DescriptionStyleModel",
          "model_module_version": "1.5.0",
          "state": {
            "_model_module": "@jupyter-widgets/controls",
            "_model_module_version": "1.5.0",
            "_model_name": "DescriptionStyleModel",
            "_view_count": null,
            "_view_module": "@jupyter-widgets/base",
            "_view_module_version": "1.2.0",
            "_view_name": "StyleView",
            "description_width": ""
          }
        },
        "1e3a6ca1c7ea43bfbe3af021ceff3597": {
          "model_module": "@jupyter-widgets/base",
          "model_name": "LayoutModel",
          "model_module_version": "1.2.0",
          "state": {
            "_model_module": "@jupyter-widgets/base",
            "_model_module_version": "1.2.0",
            "_model_name": "LayoutModel",
            "_view_count": null,
            "_view_module": "@jupyter-widgets/base",
            "_view_module_version": "1.2.0",
            "_view_name": "LayoutView",
            "align_content": null,
            "align_items": null,
            "align_self": null,
            "border": null,
            "bottom": null,
            "display": null,
            "flex": null,
            "flex_flow": null,
            "grid_area": null,
            "grid_auto_columns": null,
            "grid_auto_flow": null,
            "grid_auto_rows": null,
            "grid_column": null,
            "grid_gap": null,
            "grid_row": null,
            "grid_template_areas": null,
            "grid_template_columns": null,
            "grid_template_rows": null,
            "height": null,
            "justify_content": null,
            "justify_items": null,
            "left": null,
            "margin": null,
            "max_height": null,
            "max_width": null,
            "min_height": null,
            "min_width": null,
            "object_fit": null,
            "object_position": null,
            "order": null,
            "overflow": null,
            "overflow_x": null,
            "overflow_y": null,
            "padding": null,
            "right": null,
            "top": null,
            "visibility": null,
            "width": null
          }
        },
        "57d820a0843e41d1bd056e1d9d889edf": {
          "model_module": "@jupyter-widgets/controls",
          "model_name": "ProgressStyleModel",
          "model_module_version": "1.5.0",
          "state": {
            "_model_module": "@jupyter-widgets/controls",
            "_model_module_version": "1.5.0",
            "_model_name": "ProgressStyleModel",
            "_view_count": null,
            "_view_module": "@jupyter-widgets/base",
            "_view_module_version": "1.2.0",
            "_view_name": "StyleView",
            "bar_color": null,
            "description_width": ""
          }
        },
        "90d9702271bc46aea846aeb3a6401afe": {
          "model_module": "@jupyter-widgets/base",
          "model_name": "LayoutModel",
          "model_module_version": "1.2.0",
          "state": {
            "_model_module": "@jupyter-widgets/base",
            "_model_module_version": "1.2.0",
            "_model_name": "LayoutModel",
            "_view_count": null,
            "_view_module": "@jupyter-widgets/base",
            "_view_module_version": "1.2.0",
            "_view_name": "LayoutView",
            "align_content": null,
            "align_items": null,
            "align_self": null,
            "border": null,
            "bottom": null,
            "display": null,
            "flex": null,
            "flex_flow": null,
            "grid_area": null,
            "grid_auto_columns": null,
            "grid_auto_flow": null,
            "grid_auto_rows": null,
            "grid_column": null,
            "grid_gap": null,
            "grid_row": null,
            "grid_template_areas": null,
            "grid_template_columns": null,
            "grid_template_rows": null,
            "height": null,
            "justify_content": null,
            "justify_items": null,
            "left": null,
            "margin": null,
            "max_height": null,
            "max_width": null,
            "min_height": null,
            "min_width": null,
            "object_fit": null,
            "object_position": null,
            "order": null,
            "overflow": null,
            "overflow_x": null,
            "overflow_y": null,
            "padding": null,
            "right": null,
            "top": null,
            "visibility": null,
            "width": null
          }
        },
        "6dc8053002aa408a9ca5d8d4132821bf": {
          "model_module": "@jupyter-widgets/controls",
          "model_name": "DescriptionStyleModel",
          "model_module_version": "1.5.0",
          "state": {
            "_model_module": "@jupyter-widgets/controls",
            "_model_module_version": "1.5.0",
            "_model_name": "DescriptionStyleModel",
            "_view_count": null,
            "_view_module": "@jupyter-widgets/base",
            "_view_module_version": "1.2.0",
            "_view_name": "StyleView",
            "description_width": ""
          }
        },
        "3b70e43b5cb34b0885cfa2de95da7299": {
          "model_module": "@jupyter-widgets/controls",
          "model_name": "HBoxModel",
          "model_module_version": "1.5.0",
          "state": {
            "_dom_classes": [],
            "_model_module": "@jupyter-widgets/controls",
            "_model_module_version": "1.5.0",
            "_model_name": "HBoxModel",
            "_view_count": null,
            "_view_module": "@jupyter-widgets/controls",
            "_view_module_version": "1.5.0",
            "_view_name": "HBoxView",
            "box_style": "",
            "children": [
              "IPY_MODEL_6c94fe4840ef49d28b88cc4744622961",
              "IPY_MODEL_aac2b47baea24f21a7983b7523636f37",
              "IPY_MODEL_d4c31ee3345c48ce8986f91a0881022f"
            ],
            "layout": "IPY_MODEL_574bb0e93ae94724804f8fdb37f5473b"
          }
        },
        "6c94fe4840ef49d28b88cc4744622961": {
          "model_module": "@jupyter-widgets/controls",
          "model_name": "HTMLModel",
          "model_module_version": "1.5.0",
          "state": {
            "_dom_classes": [],
            "_model_module": "@jupyter-widgets/controls",
            "_model_module_version": "1.5.0",
            "_model_name": "HTMLModel",
            "_view_count": null,
            "_view_module": "@jupyter-widgets/controls",
            "_view_module_version": "1.5.0",
            "_view_name": "HTMLView",
            "description": "",
            "description_tooltip": null,
            "layout": "IPY_MODEL_d4cb420403bb45e099415b5270faa994",
            "placeholder": "​",
            "style": "IPY_MODEL_f011162a3ee04bc3be187270af12c0a2",
            "value": ""
          }
        },
        "aac2b47baea24f21a7983b7523636f37": {
          "model_module": "@jupyter-widgets/controls",
          "model_name": "FloatProgressModel",
          "model_module_version": "1.5.0",
          "state": {
            "_dom_classes": [],
            "_model_module": "@jupyter-widgets/controls",
            "_model_module_version": "1.5.0",
            "_model_name": "FloatProgressModel",
            "_view_count": null,
            "_view_module": "@jupyter-widgets/controls",
            "_view_module_version": "1.5.0",
            "_view_name": "ProgressView",
            "bar_style": "success",
            "description": "",
            "description_tooltip": null,
            "layout": "IPY_MODEL_696f7b8423ca49e4a7fac9ae987f4bb2",
            "max": 28881,
            "min": 0,
            "orientation": "horizontal",
            "style": "IPY_MODEL_63ffcf3876634a0a8ee41823c8ff2b7e",
            "value": 28881
          }
        },
        "d4c31ee3345c48ce8986f91a0881022f": {
          "model_module": "@jupyter-widgets/controls",
          "model_name": "HTMLModel",
          "model_module_version": "1.5.0",
          "state": {
            "_dom_classes": [],
            "_model_module": "@jupyter-widgets/controls",
            "_model_module_version": "1.5.0",
            "_model_name": "HTMLModel",
            "_view_count": null,
            "_view_module": "@jupyter-widgets/controls",
            "_view_module_version": "1.5.0",
            "_view_name": "HTMLView",
            "description": "",
            "description_tooltip": null,
            "layout": "IPY_MODEL_d4dd8d1e5c9b4e19a05a6278c1afec25",
            "placeholder": "​",
            "style": "IPY_MODEL_27770936e34d4e82b7503edce908e971",
            "value": " 29696/? [00:00&lt;00:00, 734442.19it/s]"
          }
        },
        "574bb0e93ae94724804f8fdb37f5473b": {
          "model_module": "@jupyter-widgets/base",
          "model_name": "LayoutModel",
          "model_module_version": "1.2.0",
          "state": {
            "_model_module": "@jupyter-widgets/base",
            "_model_module_version": "1.2.0",
            "_model_name": "LayoutModel",
            "_view_count": null,
            "_view_module": "@jupyter-widgets/base",
            "_view_module_version": "1.2.0",
            "_view_name": "LayoutView",
            "align_content": null,
            "align_items": null,
            "align_self": null,
            "border": null,
            "bottom": null,
            "display": null,
            "flex": null,
            "flex_flow": null,
            "grid_area": null,
            "grid_auto_columns": null,
            "grid_auto_flow": null,
            "grid_auto_rows": null,
            "grid_column": null,
            "grid_gap": null,
            "grid_row": null,
            "grid_template_areas": null,
            "grid_template_columns": null,
            "grid_template_rows": null,
            "height": null,
            "justify_content": null,
            "justify_items": null,
            "left": null,
            "margin": null,
            "max_height": null,
            "max_width": null,
            "min_height": null,
            "min_width": null,
            "object_fit": null,
            "object_position": null,
            "order": null,
            "overflow": null,
            "overflow_x": null,
            "overflow_y": null,
            "padding": null,
            "right": null,
            "top": null,
            "visibility": null,
            "width": null
          }
        },
        "d4cb420403bb45e099415b5270faa994": {
          "model_module": "@jupyter-widgets/base",
          "model_name": "LayoutModel",
          "model_module_version": "1.2.0",
          "state": {
            "_model_module": "@jupyter-widgets/base",
            "_model_module_version": "1.2.0",
            "_model_name": "LayoutModel",
            "_view_count": null,
            "_view_module": "@jupyter-widgets/base",
            "_view_module_version": "1.2.0",
            "_view_name": "LayoutView",
            "align_content": null,
            "align_items": null,
            "align_self": null,
            "border": null,
            "bottom": null,
            "display": null,
            "flex": null,
            "flex_flow": null,
            "grid_area": null,
            "grid_auto_columns": null,
            "grid_auto_flow": null,
            "grid_auto_rows": null,
            "grid_column": null,
            "grid_gap": null,
            "grid_row": null,
            "grid_template_areas": null,
            "grid_template_columns": null,
            "grid_template_rows": null,
            "height": null,
            "justify_content": null,
            "justify_items": null,
            "left": null,
            "margin": null,
            "max_height": null,
            "max_width": null,
            "min_height": null,
            "min_width": null,
            "object_fit": null,
            "object_position": null,
            "order": null,
            "overflow": null,
            "overflow_x": null,
            "overflow_y": null,
            "padding": null,
            "right": null,
            "top": null,
            "visibility": null,
            "width": null
          }
        },
        "f011162a3ee04bc3be187270af12c0a2": {
          "model_module": "@jupyter-widgets/controls",
          "model_name": "DescriptionStyleModel",
          "model_module_version": "1.5.0",
          "state": {
            "_model_module": "@jupyter-widgets/controls",
            "_model_module_version": "1.5.0",
            "_model_name": "DescriptionStyleModel",
            "_view_count": null,
            "_view_module": "@jupyter-widgets/base",
            "_view_module_version": "1.2.0",
            "_view_name": "StyleView",
            "description_width": ""
          }
        },
        "696f7b8423ca49e4a7fac9ae987f4bb2": {
          "model_module": "@jupyter-widgets/base",
          "model_name": "LayoutModel",
          "model_module_version": "1.2.0",
          "state": {
            "_model_module": "@jupyter-widgets/base",
            "_model_module_version": "1.2.0",
            "_model_name": "LayoutModel",
            "_view_count": null,
            "_view_module": "@jupyter-widgets/base",
            "_view_module_version": "1.2.0",
            "_view_name": "LayoutView",
            "align_content": null,
            "align_items": null,
            "align_self": null,
            "border": null,
            "bottom": null,
            "display": null,
            "flex": null,
            "flex_flow": null,
            "grid_area": null,
            "grid_auto_columns": null,
            "grid_auto_flow": null,
            "grid_auto_rows": null,
            "grid_column": null,
            "grid_gap": null,
            "grid_row": null,
            "grid_template_areas": null,
            "grid_template_columns": null,
            "grid_template_rows": null,
            "height": null,
            "justify_content": null,
            "justify_items": null,
            "left": null,
            "margin": null,
            "max_height": null,
            "max_width": null,
            "min_height": null,
            "min_width": null,
            "object_fit": null,
            "object_position": null,
            "order": null,
            "overflow": null,
            "overflow_x": null,
            "overflow_y": null,
            "padding": null,
            "right": null,
            "top": null,
            "visibility": null,
            "width": null
          }
        },
        "63ffcf3876634a0a8ee41823c8ff2b7e": {
          "model_module": "@jupyter-widgets/controls",
          "model_name": "ProgressStyleModel",
          "model_module_version": "1.5.0",
          "state": {
            "_model_module": "@jupyter-widgets/controls",
            "_model_module_version": "1.5.0",
            "_model_name": "ProgressStyleModel",
            "_view_count": null,
            "_view_module": "@jupyter-widgets/base",
            "_view_module_version": "1.2.0",
            "_view_name": "StyleView",
            "bar_color": null,
            "description_width": ""
          }
        },
        "d4dd8d1e5c9b4e19a05a6278c1afec25": {
          "model_module": "@jupyter-widgets/base",
          "model_name": "LayoutModel",
          "model_module_version": "1.2.0",
          "state": {
            "_model_module": "@jupyter-widgets/base",
            "_model_module_version": "1.2.0",
            "_model_name": "LayoutModel",
            "_view_count": null,
            "_view_module": "@jupyter-widgets/base",
            "_view_module_version": "1.2.0",
            "_view_name": "LayoutView",
            "align_content": null,
            "align_items": null,
            "align_self": null,
            "border": null,
            "bottom": null,
            "display": null,
            "flex": null,
            "flex_flow": null,
            "grid_area": null,
            "grid_auto_columns": null,
            "grid_auto_flow": null,
            "grid_auto_rows": null,
            "grid_column": null,
            "grid_gap": null,
            "grid_row": null,
            "grid_template_areas": null,
            "grid_template_columns": null,
            "grid_template_rows": null,
            "height": null,
            "justify_content": null,
            "justify_items": null,
            "left": null,
            "margin": null,
            "max_height": null,
            "max_width": null,
            "min_height": null,
            "min_width": null,
            "object_fit": null,
            "object_position": null,
            "order": null,
            "overflow": null,
            "overflow_x": null,
            "overflow_y": null,
            "padding": null,
            "right": null,
            "top": null,
            "visibility": null,
            "width": null
          }
        },
        "27770936e34d4e82b7503edce908e971": {
          "model_module": "@jupyter-widgets/controls",
          "model_name": "DescriptionStyleModel",
          "model_module_version": "1.5.0",
          "state": {
            "_model_module": "@jupyter-widgets/controls",
            "_model_module_version": "1.5.0",
            "_model_name": "DescriptionStyleModel",
            "_view_count": null,
            "_view_module": "@jupyter-widgets/base",
            "_view_module_version": "1.2.0",
            "_view_name": "StyleView",
            "description_width": ""
          }
        },
        "f82e75f5a4eb4318bded95b16633b779": {
          "model_module": "@jupyter-widgets/controls",
          "model_name": "HBoxModel",
          "model_module_version": "1.5.0",
          "state": {
            "_dom_classes": [],
            "_model_module": "@jupyter-widgets/controls",
            "_model_module_version": "1.5.0",
            "_model_name": "HBoxModel",
            "_view_count": null,
            "_view_module": "@jupyter-widgets/controls",
            "_view_module_version": "1.5.0",
            "_view_name": "HBoxView",
            "box_style": "",
            "children": [
              "IPY_MODEL_8a5dd68b0f874ccbbe78143c055768df",
              "IPY_MODEL_09c8649d008b4d3784dacd2614f62af3",
              "IPY_MODEL_fa048a7d8d4d4badbe1900c0f2eedfad"
            ],
            "layout": "IPY_MODEL_53a5a18d54244d37a761a11f26f27533"
          }
        },
        "8a5dd68b0f874ccbbe78143c055768df": {
          "model_module": "@jupyter-widgets/controls",
          "model_name": "HTMLModel",
          "model_module_version": "1.5.0",
          "state": {
            "_dom_classes": [],
            "_model_module": "@jupyter-widgets/controls",
            "_model_module_version": "1.5.0",
            "_model_name": "HTMLModel",
            "_view_count": null,
            "_view_module": "@jupyter-widgets/controls",
            "_view_module_version": "1.5.0",
            "_view_name": "HTMLView",
            "description": "",
            "description_tooltip": null,
            "layout": "IPY_MODEL_84448e26edfc49a0adfc378aef7fd138",
            "placeholder": "​",
            "style": "IPY_MODEL_c3805c43692b4a43a6662b02cf2ea231",
            "value": ""
          }
        },
        "09c8649d008b4d3784dacd2614f62af3": {
          "model_module": "@jupyter-widgets/controls",
          "model_name": "FloatProgressModel",
          "model_module_version": "1.5.0",
          "state": {
            "_dom_classes": [],
            "_model_module": "@jupyter-widgets/controls",
            "_model_module_version": "1.5.0",
            "_model_name": "FloatProgressModel",
            "_view_count": null,
            "_view_module": "@jupyter-widgets/controls",
            "_view_module_version": "1.5.0",
            "_view_name": "ProgressView",
            "bar_style": "success",
            "description": "",
            "description_tooltip": null,
            "layout": "IPY_MODEL_eb0a3e699f474cddb2dfd6c817be334d",
            "max": 1648877,
            "min": 0,
            "orientation": "horizontal",
            "style": "IPY_MODEL_231cb14d7a804c7e9ebb25651561f9cb",
            "value": 1648877
          }
        },
        "fa048a7d8d4d4badbe1900c0f2eedfad": {
          "model_module": "@jupyter-widgets/controls",
          "model_name": "HTMLModel",
          "model_module_version": "1.5.0",
          "state": {
            "_dom_classes": [],
            "_model_module": "@jupyter-widgets/controls",
            "_model_module_version": "1.5.0",
            "_model_name": "HTMLModel",
            "_view_count": null,
            "_view_module": "@jupyter-widgets/controls",
            "_view_module_version": "1.5.0",
            "_view_name": "HTMLView",
            "description": "",
            "description_tooltip": null,
            "layout": "IPY_MODEL_d57629d242b947d3b8b3b72712af5fa1",
            "placeholder": "​",
            "style": "IPY_MODEL_941c77adbcfa47088cb1b9b3d33c7a61",
            "value": " 1649664/? [00:00&lt;00:00, 11924929.79it/s]"
          }
        },
        "53a5a18d54244d37a761a11f26f27533": {
          "model_module": "@jupyter-widgets/base",
          "model_name": "LayoutModel",
          "model_module_version": "1.2.0",
          "state": {
            "_model_module": "@jupyter-widgets/base",
            "_model_module_version": "1.2.0",
            "_model_name": "LayoutModel",
            "_view_count": null,
            "_view_module": "@jupyter-widgets/base",
            "_view_module_version": "1.2.0",
            "_view_name": "LayoutView",
            "align_content": null,
            "align_items": null,
            "align_self": null,
            "border": null,
            "bottom": null,
            "display": null,
            "flex": null,
            "flex_flow": null,
            "grid_area": null,
            "grid_auto_columns": null,
            "grid_auto_flow": null,
            "grid_auto_rows": null,
            "grid_column": null,
            "grid_gap": null,
            "grid_row": null,
            "grid_template_areas": null,
            "grid_template_columns": null,
            "grid_template_rows": null,
            "height": null,
            "justify_content": null,
            "justify_items": null,
            "left": null,
            "margin": null,
            "max_height": null,
            "max_width": null,
            "min_height": null,
            "min_width": null,
            "object_fit": null,
            "object_position": null,
            "order": null,
            "overflow": null,
            "overflow_x": null,
            "overflow_y": null,
            "padding": null,
            "right": null,
            "top": null,
            "visibility": null,
            "width": null
          }
        },
        "84448e26edfc49a0adfc378aef7fd138": {
          "model_module": "@jupyter-widgets/base",
          "model_name": "LayoutModel",
          "model_module_version": "1.2.0",
          "state": {
            "_model_module": "@jupyter-widgets/base",
            "_model_module_version": "1.2.0",
            "_model_name": "LayoutModel",
            "_view_count": null,
            "_view_module": "@jupyter-widgets/base",
            "_view_module_version": "1.2.0",
            "_view_name": "LayoutView",
            "align_content": null,
            "align_items": null,
            "align_self": null,
            "border": null,
            "bottom": null,
            "display": null,
            "flex": null,
            "flex_flow": null,
            "grid_area": null,
            "grid_auto_columns": null,
            "grid_auto_flow": null,
            "grid_auto_rows": null,
            "grid_column": null,
            "grid_gap": null,
            "grid_row": null,
            "grid_template_areas": null,
            "grid_template_columns": null,
            "grid_template_rows": null,
            "height": null,
            "justify_content": null,
            "justify_items": null,
            "left": null,
            "margin": null,
            "max_height": null,
            "max_width": null,
            "min_height": null,
            "min_width": null,
            "object_fit": null,
            "object_position": null,
            "order": null,
            "overflow": null,
            "overflow_x": null,
            "overflow_y": null,
            "padding": null,
            "right": null,
            "top": null,
            "visibility": null,
            "width": null
          }
        },
        "c3805c43692b4a43a6662b02cf2ea231": {
          "model_module": "@jupyter-widgets/controls",
          "model_name": "DescriptionStyleModel",
          "model_module_version": "1.5.0",
          "state": {
            "_model_module": "@jupyter-widgets/controls",
            "_model_module_version": "1.5.0",
            "_model_name": "DescriptionStyleModel",
            "_view_count": null,
            "_view_module": "@jupyter-widgets/base",
            "_view_module_version": "1.2.0",
            "_view_name": "StyleView",
            "description_width": ""
          }
        },
        "eb0a3e699f474cddb2dfd6c817be334d": {
          "model_module": "@jupyter-widgets/base",
          "model_name": "LayoutModel",
          "model_module_version": "1.2.0",
          "state": {
            "_model_module": "@jupyter-widgets/base",
            "_model_module_version": "1.2.0",
            "_model_name": "LayoutModel",
            "_view_count": null,
            "_view_module": "@jupyter-widgets/base",
            "_view_module_version": "1.2.0",
            "_view_name": "LayoutView",
            "align_content": null,
            "align_items": null,
            "align_self": null,
            "border": null,
            "bottom": null,
            "display": null,
            "flex": null,
            "flex_flow": null,
            "grid_area": null,
            "grid_auto_columns": null,
            "grid_auto_flow": null,
            "grid_auto_rows": null,
            "grid_column": null,
            "grid_gap": null,
            "grid_row": null,
            "grid_template_areas": null,
            "grid_template_columns": null,
            "grid_template_rows": null,
            "height": null,
            "justify_content": null,
            "justify_items": null,
            "left": null,
            "margin": null,
            "max_height": null,
            "max_width": null,
            "min_height": null,
            "min_width": null,
            "object_fit": null,
            "object_position": null,
            "order": null,
            "overflow": null,
            "overflow_x": null,
            "overflow_y": null,
            "padding": null,
            "right": null,
            "top": null,
            "visibility": null,
            "width": null
          }
        },
        "231cb14d7a804c7e9ebb25651561f9cb": {
          "model_module": "@jupyter-widgets/controls",
          "model_name": "ProgressStyleModel",
          "model_module_version": "1.5.0",
          "state": {
            "_model_module": "@jupyter-widgets/controls",
            "_model_module_version": "1.5.0",
            "_model_name": "ProgressStyleModel",
            "_view_count": null,
            "_view_module": "@jupyter-widgets/base",
            "_view_module_version": "1.2.0",
            "_view_name": "StyleView",
            "bar_color": null,
            "description_width": ""
          }
        },
        "d57629d242b947d3b8b3b72712af5fa1": {
          "model_module": "@jupyter-widgets/base",
          "model_name": "LayoutModel",
          "model_module_version": "1.2.0",
          "state": {
            "_model_module": "@jupyter-widgets/base",
            "_model_module_version": "1.2.0",
            "_model_name": "LayoutModel",
            "_view_count": null,
            "_view_module": "@jupyter-widgets/base",
            "_view_module_version": "1.2.0",
            "_view_name": "LayoutView",
            "align_content": null,
            "align_items": null,
            "align_self": null,
            "border": null,
            "bottom": null,
            "display": null,
            "flex": null,
            "flex_flow": null,
            "grid_area": null,
            "grid_auto_columns": null,
            "grid_auto_flow": null,
            "grid_auto_rows": null,
            "grid_column": null,
            "grid_gap": null,
            "grid_row": null,
            "grid_template_areas": null,
            "grid_template_columns": null,
            "grid_template_rows": null,
            "height": null,
            "justify_content": null,
            "justify_items": null,
            "left": null,
            "margin": null,
            "max_height": null,
            "max_width": null,
            "min_height": null,
            "min_width": null,
            "object_fit": null,
            "object_position": null,
            "order": null,
            "overflow": null,
            "overflow_x": null,
            "overflow_y": null,
            "padding": null,
            "right": null,
            "top": null,
            "visibility": null,
            "width": null
          }
        },
        "941c77adbcfa47088cb1b9b3d33c7a61": {
          "model_module": "@jupyter-widgets/controls",
          "model_name": "DescriptionStyleModel",
          "model_module_version": "1.5.0",
          "state": {
            "_model_module": "@jupyter-widgets/controls",
            "_model_module_version": "1.5.0",
            "_model_name": "DescriptionStyleModel",
            "_view_count": null,
            "_view_module": "@jupyter-widgets/base",
            "_view_module_version": "1.2.0",
            "_view_name": "StyleView",
            "description_width": ""
          }
        },
        "a5243abfb3a242a4b3bf1becb66f7d44": {
          "model_module": "@jupyter-widgets/controls",
          "model_name": "HBoxModel",
          "model_module_version": "1.5.0",
          "state": {
            "_dom_classes": [],
            "_model_module": "@jupyter-widgets/controls",
            "_model_module_version": "1.5.0",
            "_model_name": "HBoxModel",
            "_view_count": null,
            "_view_module": "@jupyter-widgets/controls",
            "_view_module_version": "1.5.0",
            "_view_name": "HBoxView",
            "box_style": "",
            "children": [
              "IPY_MODEL_3775b2bf626a4e03bf95fa0a2200e44c",
              "IPY_MODEL_40d19b7160054e17816baf342d90c02d",
              "IPY_MODEL_400a3e30d215457299d7176b2f34532c"
            ],
            "layout": "IPY_MODEL_e01fdf0fc9aa477eb815b07716ab826f"
          }
        },
        "3775b2bf626a4e03bf95fa0a2200e44c": {
          "model_module": "@jupyter-widgets/controls",
          "model_name": "HTMLModel",
          "model_module_version": "1.5.0",
          "state": {
            "_dom_classes": [],
            "_model_module": "@jupyter-widgets/controls",
            "_model_module_version": "1.5.0",
            "_model_name": "HTMLModel",
            "_view_count": null,
            "_view_module": "@jupyter-widgets/controls",
            "_view_module_version": "1.5.0",
            "_view_name": "HTMLView",
            "description": "",
            "description_tooltip": null,
            "layout": "IPY_MODEL_543cacf969d04c02aaffea067a816f70",
            "placeholder": "​",
            "style": "IPY_MODEL_180d1f33562946a3bf760cb6f4b58bea",
            "value": ""
          }
        },
        "40d19b7160054e17816baf342d90c02d": {
          "model_module": "@jupyter-widgets/controls",
          "model_name": "FloatProgressModel",
          "model_module_version": "1.5.0",
          "state": {
            "_dom_classes": [],
            "_model_module": "@jupyter-widgets/controls",
            "_model_module_version": "1.5.0",
            "_model_name": "FloatProgressModel",
            "_view_count": null,
            "_view_module": "@jupyter-widgets/controls",
            "_view_module_version": "1.5.0",
            "_view_name": "ProgressView",
            "bar_style": "success",
            "description": "",
            "description_tooltip": null,
            "layout": "IPY_MODEL_b026761d17ae467a8a7b22f5efaa17a6",
            "max": 4542,
            "min": 0,
            "orientation": "horizontal",
            "style": "IPY_MODEL_43776ad4c7b04500b0c19d2f62c54114",
            "value": 4542
          }
        },
        "400a3e30d215457299d7176b2f34532c": {
          "model_module": "@jupyter-widgets/controls",
          "model_name": "HTMLModel",
          "model_module_version": "1.5.0",
          "state": {
            "_dom_classes": [],
            "_model_module": "@jupyter-widgets/controls",
            "_model_module_version": "1.5.0",
            "_model_name": "HTMLModel",
            "_view_count": null,
            "_view_module": "@jupyter-widgets/controls",
            "_view_module_version": "1.5.0",
            "_view_name": "HTMLView",
            "description": "",
            "description_tooltip": null,
            "layout": "IPY_MODEL_2d614dcd221c4756a35cdd18581687be",
            "placeholder": "​",
            "style": "IPY_MODEL_627fb4b075224b2293924cc529da7e0f",
            "value": " 5120/? [00:00&lt;00:00, 84132.23it/s]"
          }
        },
        "e01fdf0fc9aa477eb815b07716ab826f": {
          "model_module": "@jupyter-widgets/base",
          "model_name": "LayoutModel",
          "model_module_version": "1.2.0",
          "state": {
            "_model_module": "@jupyter-widgets/base",
            "_model_module_version": "1.2.0",
            "_model_name": "LayoutModel",
            "_view_count": null,
            "_view_module": "@jupyter-widgets/base",
            "_view_module_version": "1.2.0",
            "_view_name": "LayoutView",
            "align_content": null,
            "align_items": null,
            "align_self": null,
            "border": null,
            "bottom": null,
            "display": null,
            "flex": null,
            "flex_flow": null,
            "grid_area": null,
            "grid_auto_columns": null,
            "grid_auto_flow": null,
            "grid_auto_rows": null,
            "grid_column": null,
            "grid_gap": null,
            "grid_row": null,
            "grid_template_areas": null,
            "grid_template_columns": null,
            "grid_template_rows": null,
            "height": null,
            "justify_content": null,
            "justify_items": null,
            "left": null,
            "margin": null,
            "max_height": null,
            "max_width": null,
            "min_height": null,
            "min_width": null,
            "object_fit": null,
            "object_position": null,
            "order": null,
            "overflow": null,
            "overflow_x": null,
            "overflow_y": null,
            "padding": null,
            "right": null,
            "top": null,
            "visibility": null,
            "width": null
          }
        },
        "543cacf969d04c02aaffea067a816f70": {
          "model_module": "@jupyter-widgets/base",
          "model_name": "LayoutModel",
          "model_module_version": "1.2.0",
          "state": {
            "_model_module": "@jupyter-widgets/base",
            "_model_module_version": "1.2.0",
            "_model_name": "LayoutModel",
            "_view_count": null,
            "_view_module": "@jupyter-widgets/base",
            "_view_module_version": "1.2.0",
            "_view_name": "LayoutView",
            "align_content": null,
            "align_items": null,
            "align_self": null,
            "border": null,
            "bottom": null,
            "display": null,
            "flex": null,
            "flex_flow": null,
            "grid_area": null,
            "grid_auto_columns": null,
            "grid_auto_flow": null,
            "grid_auto_rows": null,
            "grid_column": null,
            "grid_gap": null,
            "grid_row": null,
            "grid_template_areas": null,
            "grid_template_columns": null,
            "grid_template_rows": null,
            "height": null,
            "justify_content": null,
            "justify_items": null,
            "left": null,
            "margin": null,
            "max_height": null,
            "max_width": null,
            "min_height": null,
            "min_width": null,
            "object_fit": null,
            "object_position": null,
            "order": null,
            "overflow": null,
            "overflow_x": null,
            "overflow_y": null,
            "padding": null,
            "right": null,
            "top": null,
            "visibility": null,
            "width": null
          }
        },
        "180d1f33562946a3bf760cb6f4b58bea": {
          "model_module": "@jupyter-widgets/controls",
          "model_name": "DescriptionStyleModel",
          "model_module_version": "1.5.0",
          "state": {
            "_model_module": "@jupyter-widgets/controls",
            "_model_module_version": "1.5.0",
            "_model_name": "DescriptionStyleModel",
            "_view_count": null,
            "_view_module": "@jupyter-widgets/base",
            "_view_module_version": "1.2.0",
            "_view_name": "StyleView",
            "description_width": ""
          }
        },
        "b026761d17ae467a8a7b22f5efaa17a6": {
          "model_module": "@jupyter-widgets/base",
          "model_name": "LayoutModel",
          "model_module_version": "1.2.0",
          "state": {
            "_model_module": "@jupyter-widgets/base",
            "_model_module_version": "1.2.0",
            "_model_name": "LayoutModel",
            "_view_count": null,
            "_view_module": "@jupyter-widgets/base",
            "_view_module_version": "1.2.0",
            "_view_name": "LayoutView",
            "align_content": null,
            "align_items": null,
            "align_self": null,
            "border": null,
            "bottom": null,
            "display": null,
            "flex": null,
            "flex_flow": null,
            "grid_area": null,
            "grid_auto_columns": null,
            "grid_auto_flow": null,
            "grid_auto_rows": null,
            "grid_column": null,
            "grid_gap": null,
            "grid_row": null,
            "grid_template_areas": null,
            "grid_template_columns": null,
            "grid_template_rows": null,
            "height": null,
            "justify_content": null,
            "justify_items": null,
            "left": null,
            "margin": null,
            "max_height": null,
            "max_width": null,
            "min_height": null,
            "min_width": null,
            "object_fit": null,
            "object_position": null,
            "order": null,
            "overflow": null,
            "overflow_x": null,
            "overflow_y": null,
            "padding": null,
            "right": null,
            "top": null,
            "visibility": null,
            "width": null
          }
        },
        "43776ad4c7b04500b0c19d2f62c54114": {
          "model_module": "@jupyter-widgets/controls",
          "model_name": "ProgressStyleModel",
          "model_module_version": "1.5.0",
          "state": {
            "_model_module": "@jupyter-widgets/controls",
            "_model_module_version": "1.5.0",
            "_model_name": "ProgressStyleModel",
            "_view_count": null,
            "_view_module": "@jupyter-widgets/base",
            "_view_module_version": "1.2.0",
            "_view_name": "StyleView",
            "bar_color": null,
            "description_width": ""
          }
        },
        "2d614dcd221c4756a35cdd18581687be": {
          "model_module": "@jupyter-widgets/base",
          "model_name": "LayoutModel",
          "model_module_version": "1.2.0",
          "state": {
            "_model_module": "@jupyter-widgets/base",
            "_model_module_version": "1.2.0",
            "_model_name": "LayoutModel",
            "_view_count": null,
            "_view_module": "@jupyter-widgets/base",
            "_view_module_version": "1.2.0",
            "_view_name": "LayoutView",
            "align_content": null,
            "align_items": null,
            "align_self": null,
            "border": null,
            "bottom": null,
            "display": null,
            "flex": null,
            "flex_flow": null,
            "grid_area": null,
            "grid_auto_columns": null,
            "grid_auto_flow": null,
            "grid_auto_rows": null,
            "grid_column": null,
            "grid_gap": null,
            "grid_row": null,
            "grid_template_areas": null,
            "grid_template_columns": null,
            "grid_template_rows": null,
            "height": null,
            "justify_content": null,
            "justify_items": null,
            "left": null,
            "margin": null,
            "max_height": null,
            "max_width": null,
            "min_height": null,
            "min_width": null,
            "object_fit": null,
            "object_position": null,
            "order": null,
            "overflow": null,
            "overflow_x": null,
            "overflow_y": null,
            "padding": null,
            "right": null,
            "top": null,
            "visibility": null,
            "width": null
          }
        },
        "627fb4b075224b2293924cc529da7e0f": {
          "model_module": "@jupyter-widgets/controls",
          "model_name": "DescriptionStyleModel",
          "model_module_version": "1.5.0",
          "state": {
            "_model_module": "@jupyter-widgets/controls",
            "_model_module_version": "1.5.0",
            "_model_name": "DescriptionStyleModel",
            "_view_count": null,
            "_view_module": "@jupyter-widgets/base",
            "_view_module_version": "1.2.0",
            "_view_name": "StyleView",
            "description_width": ""
          }
        },
        "1e91ca80b95f4003839652fef94a31e1": {
          "model_module": "@jupyter-widgets/controls",
          "model_name": "VBoxModel",
          "model_module_version": "1.5.0",
          "state": {
            "_dom_classes": [],
            "_model_module": "@jupyter-widgets/controls",
            "_model_module_version": "1.5.0",
            "_model_name": "VBoxModel",
            "_view_count": null,
            "_view_module": "@jupyter-widgets/controls",
            "_view_module_version": "1.5.0",
            "_view_name": "VBoxView",
            "box_style": "",
            "children": [
              "IPY_MODEL_ce22fb6d5adb410aaf9cb77807e4ea06",
              "IPY_MODEL_027c757357494926b27dd444dd7aa118"
            ],
            "layout": "IPY_MODEL_8f0e6f00aa04495e9233a99ef5ac45c7"
          }
        },
        "ce22fb6d5adb410aaf9cb77807e4ea06": {
          "model_module": "@jupyter-widgets/controls",
          "model_name": "LabelModel",
          "model_module_version": "1.5.0",
          "state": {
            "_dom_classes": [],
            "_model_module": "@jupyter-widgets/controls",
            "_model_module_version": "1.5.0",
            "_model_name": "LabelModel",
            "_view_count": null,
            "_view_module": "@jupyter-widgets/controls",
            "_view_module_version": "1.5.0",
            "_view_name": "LabelView",
            "description": "",
            "description_tooltip": null,
            "layout": "IPY_MODEL_68496d2325594ce7ae9d7c22459043b4",
            "placeholder": "​",
            "style": "IPY_MODEL_2605187158704441b4ebfc4e62dbebcc",
            "value": "98.202 MB of 98.202 MB uploaded (0.000 MB deduped)\r"
          }
        },
        "027c757357494926b27dd444dd7aa118": {
          "model_module": "@jupyter-widgets/controls",
          "model_name": "FloatProgressModel",
          "model_module_version": "1.5.0",
          "state": {
            "_dom_classes": [],
            "_model_module": "@jupyter-widgets/controls",
            "_model_module_version": "1.5.0",
            "_model_name": "FloatProgressModel",
            "_view_count": null,
            "_view_module": "@jupyter-widgets/controls",
            "_view_module_version": "1.5.0",
            "_view_name": "ProgressView",
            "bar_style": "",
            "description": "",
            "description_tooltip": null,
            "layout": "IPY_MODEL_143c3de0d9ba40f687819cc240cc13b1",
            "max": 1,
            "min": 0,
            "orientation": "horizontal",
            "style": "IPY_MODEL_fa711de6d0db4ac792d2d14da5ac16ba",
            "value": 1
          }
        },
        "8f0e6f00aa04495e9233a99ef5ac45c7": {
          "model_module": "@jupyter-widgets/base",
          "model_name": "LayoutModel",
          "model_module_version": "1.2.0",
          "state": {
            "_model_module": "@jupyter-widgets/base",
            "_model_module_version": "1.2.0",
            "_model_name": "LayoutModel",
            "_view_count": null,
            "_view_module": "@jupyter-widgets/base",
            "_view_module_version": "1.2.0",
            "_view_name": "LayoutView",
            "align_content": null,
            "align_items": null,
            "align_self": null,
            "border": null,
            "bottom": null,
            "display": null,
            "flex": null,
            "flex_flow": null,
            "grid_area": null,
            "grid_auto_columns": null,
            "grid_auto_flow": null,
            "grid_auto_rows": null,
            "grid_column": null,
            "grid_gap": null,
            "grid_row": null,
            "grid_template_areas": null,
            "grid_template_columns": null,
            "grid_template_rows": null,
            "height": null,
            "justify_content": null,
            "justify_items": null,
            "left": null,
            "margin": null,
            "max_height": null,
            "max_width": null,
            "min_height": null,
            "min_width": null,
            "object_fit": null,
            "object_position": null,
            "order": null,
            "overflow": null,
            "overflow_x": null,
            "overflow_y": null,
            "padding": null,
            "right": null,
            "top": null,
            "visibility": null,
            "width": null
          }
        },
        "68496d2325594ce7ae9d7c22459043b4": {
          "model_module": "@jupyter-widgets/base",
          "model_name": "LayoutModel",
          "model_module_version": "1.2.0",
          "state": {
            "_model_module": "@jupyter-widgets/base",
            "_model_module_version": "1.2.0",
            "_model_name": "LayoutModel",
            "_view_count": null,
            "_view_module": "@jupyter-widgets/base",
            "_view_module_version": "1.2.0",
            "_view_name": "LayoutView",
            "align_content": null,
            "align_items": null,
            "align_self": null,
            "border": null,
            "bottom": null,
            "display": null,
            "flex": null,
            "flex_flow": null,
            "grid_area": null,
            "grid_auto_columns": null,
            "grid_auto_flow": null,
            "grid_auto_rows": null,
            "grid_column": null,
            "grid_gap": null,
            "grid_row": null,
            "grid_template_areas": null,
            "grid_template_columns": null,
            "grid_template_rows": null,
            "height": null,
            "justify_content": null,
            "justify_items": null,
            "left": null,
            "margin": null,
            "max_height": null,
            "max_width": null,
            "min_height": null,
            "min_width": null,
            "object_fit": null,
            "object_position": null,
            "order": null,
            "overflow": null,
            "overflow_x": null,
            "overflow_y": null,
            "padding": null,
            "right": null,
            "top": null,
            "visibility": null,
            "width": null
          }
        },
        "2605187158704441b4ebfc4e62dbebcc": {
          "model_module": "@jupyter-widgets/controls",
          "model_name": "DescriptionStyleModel",
          "model_module_version": "1.5.0",
          "state": {
            "_model_module": "@jupyter-widgets/controls",
            "_model_module_version": "1.5.0",
            "_model_name": "DescriptionStyleModel",
            "_view_count": null,
            "_view_module": "@jupyter-widgets/base",
            "_view_module_version": "1.2.0",
            "_view_name": "StyleView",
            "description_width": ""
          }
        },
        "143c3de0d9ba40f687819cc240cc13b1": {
          "model_module": "@jupyter-widgets/base",
          "model_name": "LayoutModel",
          "model_module_version": "1.2.0",
          "state": {
            "_model_module": "@jupyter-widgets/base",
            "_model_module_version": "1.2.0",
            "_model_name": "LayoutModel",
            "_view_count": null,
            "_view_module": "@jupyter-widgets/base",
            "_view_module_version": "1.2.0",
            "_view_name": "LayoutView",
            "align_content": null,
            "align_items": null,
            "align_self": null,
            "border": null,
            "bottom": null,
            "display": null,
            "flex": null,
            "flex_flow": null,
            "grid_area": null,
            "grid_auto_columns": null,
            "grid_auto_flow": null,
            "grid_auto_rows": null,
            "grid_column": null,
            "grid_gap": null,
            "grid_row": null,
            "grid_template_areas": null,
            "grid_template_columns": null,
            "grid_template_rows": null,
            "height": null,
            "justify_content": null,
            "justify_items": null,
            "left": null,
            "margin": null,
            "max_height": null,
            "max_width": null,
            "min_height": null,
            "min_width": null,
            "object_fit": null,
            "object_position": null,
            "order": null,
            "overflow": null,
            "overflow_x": null,
            "overflow_y": null,
            "padding": null,
            "right": null,
            "top": null,
            "visibility": null,
            "width": null
          }
        },
        "fa711de6d0db4ac792d2d14da5ac16ba": {
          "model_module": "@jupyter-widgets/controls",
          "model_name": "ProgressStyleModel",
          "model_module_version": "1.5.0",
          "state": {
            "_model_module": "@jupyter-widgets/controls",
            "_model_module_version": "1.5.0",
            "_model_name": "ProgressStyleModel",
            "_view_count": null,
            "_view_module": "@jupyter-widgets/base",
            "_view_module_version": "1.2.0",
            "_view_name": "StyleView",
            "bar_color": null,
            "description_width": ""
          }
        },
        "ca812022131b43a7a7d5ab957ad2c3d9": {
          "model_module": "@jupyter-widgets/controls",
          "model_name": "VBoxModel",
          "model_module_version": "1.5.0",
          "state": {
            "_dom_classes": [],
            "_model_module": "@jupyter-widgets/controls",
            "_model_module_version": "1.5.0",
            "_model_name": "VBoxModel",
            "_view_count": null,
            "_view_module": "@jupyter-widgets/controls",
            "_view_module_version": "1.5.0",
            "_view_name": "VBoxView",
            "box_style": "",
            "children": [
              "IPY_MODEL_3e77a63d9685430a88add23f36fbeb9a",
              "IPY_MODEL_c2279a3905b342bcb06d24301bc194ab"
            ],
            "layout": "IPY_MODEL_8cfb72a3e4864f41a9d5c1a8ca4361fb"
          }
        },
        "3e77a63d9685430a88add23f36fbeb9a": {
          "model_module": "@jupyter-widgets/controls",
          "model_name": "LabelModel",
          "model_module_version": "1.5.0",
          "state": {
            "_dom_classes": [],
            "_model_module": "@jupyter-widgets/controls",
            "_model_module_version": "1.5.0",
            "_model_name": "LabelModel",
            "_view_count": null,
            "_view_module": "@jupyter-widgets/controls",
            "_view_module_version": "1.5.0",
            "_view_name": "LabelView",
            "description": "",
            "description_tooltip": null,
            "layout": "IPY_MODEL_ec15e8045d234c67a3eb5b7943bb6162",
            "placeholder": "​",
            "style": "IPY_MODEL_6cd3ab01c04345779e6c575ac1514c72",
            "value": "210.353 MB of 210.353 MB uploaded (0.000 MB deduped)\r"
          }
        },
        "c2279a3905b342bcb06d24301bc194ab": {
          "model_module": "@jupyter-widgets/controls",
          "model_name": "FloatProgressModel",
          "model_module_version": "1.5.0",
          "state": {
            "_dom_classes": [],
            "_model_module": "@jupyter-widgets/controls",
            "_model_module_version": "1.5.0",
            "_model_name": "FloatProgressModel",
            "_view_count": null,
            "_view_module": "@jupyter-widgets/controls",
            "_view_module_version": "1.5.0",
            "_view_name": "ProgressView",
            "bar_style": "",
            "description": "",
            "description_tooltip": null,
            "layout": "IPY_MODEL_9231a561a3b1453baaa94ebc7b575ddb",
            "max": 1,
            "min": 0,
            "orientation": "horizontal",
            "style": "IPY_MODEL_95f4970eef6c4de9b2c26d554c0b1b84",
            "value": 1
          }
        },
        "8cfb72a3e4864f41a9d5c1a8ca4361fb": {
          "model_module": "@jupyter-widgets/base",
          "model_name": "LayoutModel",
          "model_module_version": "1.2.0",
          "state": {
            "_model_module": "@jupyter-widgets/base",
            "_model_module_version": "1.2.0",
            "_model_name": "LayoutModel",
            "_view_count": null,
            "_view_module": "@jupyter-widgets/base",
            "_view_module_version": "1.2.0",
            "_view_name": "LayoutView",
            "align_content": null,
            "align_items": null,
            "align_self": null,
            "border": null,
            "bottom": null,
            "display": null,
            "flex": null,
            "flex_flow": null,
            "grid_area": null,
            "grid_auto_columns": null,
            "grid_auto_flow": null,
            "grid_auto_rows": null,
            "grid_column": null,
            "grid_gap": null,
            "grid_row": null,
            "grid_template_areas": null,
            "grid_template_columns": null,
            "grid_template_rows": null,
            "height": null,
            "justify_content": null,
            "justify_items": null,
            "left": null,
            "margin": null,
            "max_height": null,
            "max_width": null,
            "min_height": null,
            "min_width": null,
            "object_fit": null,
            "object_position": null,
            "order": null,
            "overflow": null,
            "overflow_x": null,
            "overflow_y": null,
            "padding": null,
            "right": null,
            "top": null,
            "visibility": null,
            "width": null
          }
        },
        "ec15e8045d234c67a3eb5b7943bb6162": {
          "model_module": "@jupyter-widgets/base",
          "model_name": "LayoutModel",
          "model_module_version": "1.2.0",
          "state": {
            "_model_module": "@jupyter-widgets/base",
            "_model_module_version": "1.2.0",
            "_model_name": "LayoutModel",
            "_view_count": null,
            "_view_module": "@jupyter-widgets/base",
            "_view_module_version": "1.2.0",
            "_view_name": "LayoutView",
            "align_content": null,
            "align_items": null,
            "align_self": null,
            "border": null,
            "bottom": null,
            "display": null,
            "flex": null,
            "flex_flow": null,
            "grid_area": null,
            "grid_auto_columns": null,
            "grid_auto_flow": null,
            "grid_auto_rows": null,
            "grid_column": null,
            "grid_gap": null,
            "grid_row": null,
            "grid_template_areas": null,
            "grid_template_columns": null,
            "grid_template_rows": null,
            "height": null,
            "justify_content": null,
            "justify_items": null,
            "left": null,
            "margin": null,
            "max_height": null,
            "max_width": null,
            "min_height": null,
            "min_width": null,
            "object_fit": null,
            "object_position": null,
            "order": null,
            "overflow": null,
            "overflow_x": null,
            "overflow_y": null,
            "padding": null,
            "right": null,
            "top": null,
            "visibility": null,
            "width": null
          }
        },
        "6cd3ab01c04345779e6c575ac1514c72": {
          "model_module": "@jupyter-widgets/controls",
          "model_name": "DescriptionStyleModel",
          "model_module_version": "1.5.0",
          "state": {
            "_model_module": "@jupyter-widgets/controls",
            "_model_module_version": "1.5.0",
            "_model_name": "DescriptionStyleModel",
            "_view_count": null,
            "_view_module": "@jupyter-widgets/base",
            "_view_module_version": "1.2.0",
            "_view_name": "StyleView",
            "description_width": ""
          }
        },
        "9231a561a3b1453baaa94ebc7b575ddb": {
          "model_module": "@jupyter-widgets/base",
          "model_name": "LayoutModel",
          "model_module_version": "1.2.0",
          "state": {
            "_model_module": "@jupyter-widgets/base",
            "_model_module_version": "1.2.0",
            "_model_name": "LayoutModel",
            "_view_count": null,
            "_view_module": "@jupyter-widgets/base",
            "_view_module_version": "1.2.0",
            "_view_name": "LayoutView",
            "align_content": null,
            "align_items": null,
            "align_self": null,
            "border": null,
            "bottom": null,
            "display": null,
            "flex": null,
            "flex_flow": null,
            "grid_area": null,
            "grid_auto_columns": null,
            "grid_auto_flow": null,
            "grid_auto_rows": null,
            "grid_column": null,
            "grid_gap": null,
            "grid_row": null,
            "grid_template_areas": null,
            "grid_template_columns": null,
            "grid_template_rows": null,
            "height": null,
            "justify_content": null,
            "justify_items": null,
            "left": null,
            "margin": null,
            "max_height": null,
            "max_width": null,
            "min_height": null,
            "min_width": null,
            "object_fit": null,
            "object_position": null,
            "order": null,
            "overflow": null,
            "overflow_x": null,
            "overflow_y": null,
            "padding": null,
            "right": null,
            "top": null,
            "visibility": null,
            "width": null
          }
        },
        "95f4970eef6c4de9b2c26d554c0b1b84": {
          "model_module": "@jupyter-widgets/controls",
          "model_name": "ProgressStyleModel",
          "model_module_version": "1.5.0",
          "state": {
            "_model_module": "@jupyter-widgets/controls",
            "_model_module_version": "1.5.0",
            "_model_name": "ProgressStyleModel",
            "_view_count": null,
            "_view_module": "@jupyter-widgets/base",
            "_view_module_version": "1.2.0",
            "_view_name": "StyleView",
            "bar_color": null,
            "description_width": ""
          }
        },
        "564eaa58e1ff4d949aea623aad7b20e4": {
          "model_module": "@jupyter-widgets/controls",
          "model_name": "VBoxModel",
          "model_module_version": "1.5.0",
          "state": {
            "_dom_classes": [],
            "_model_module": "@jupyter-widgets/controls",
            "_model_module_version": "1.5.0",
            "_model_name": "VBoxModel",
            "_view_count": null,
            "_view_module": "@jupyter-widgets/controls",
            "_view_module_version": "1.5.0",
            "_view_name": "VBoxView",
            "box_style": "",
            "children": [
              "IPY_MODEL_ab7d4850057b498cb63a4d6519b7b3f4",
              "IPY_MODEL_f714ef4c21644345863a871ed01c500c"
            ],
            "layout": "IPY_MODEL_de4f3e0f5bb44f07aed8b819b177950f"
          }
        },
        "ab7d4850057b498cb63a4d6519b7b3f4": {
          "model_module": "@jupyter-widgets/controls",
          "model_name": "LabelModel",
          "model_module_version": "1.5.0",
          "state": {
            "_dom_classes": [],
            "_model_module": "@jupyter-widgets/controls",
            "_model_module_version": "1.5.0",
            "_model_name": "LabelModel",
            "_view_count": null,
            "_view_module": "@jupyter-widgets/controls",
            "_view_module_version": "1.5.0",
            "_view_name": "LabelView",
            "description": "",
            "description_tooltip": null,
            "layout": "IPY_MODEL_211b0c4db81b489cac749b847d20e594",
            "placeholder": "​",
            "style": "IPY_MODEL_5e9315680a404b20ac928d358d6ecdb6",
            "value": "0.278 MB of 0.278 MB uploaded (0.000 MB deduped)\r"
          }
        },
        "f714ef4c21644345863a871ed01c500c": {
          "model_module": "@jupyter-widgets/controls",
          "model_name": "FloatProgressModel",
          "model_module_version": "1.5.0",
          "state": {
            "_dom_classes": [],
            "_model_module": "@jupyter-widgets/controls",
            "_model_module_version": "1.5.0",
            "_model_name": "FloatProgressModel",
            "_view_count": null,
            "_view_module": "@jupyter-widgets/controls",
            "_view_module_version": "1.5.0",
            "_view_name": "ProgressView",
            "bar_style": "",
            "description": "",
            "description_tooltip": null,
            "layout": "IPY_MODEL_b3ceaf5e1c85468ca20c72ccafddd344",
            "max": 1,
            "min": 0,
            "orientation": "horizontal",
            "style": "IPY_MODEL_84d0585c8ec54009b2e549c8b39479c7",
            "value": 1
          }
        },
        "de4f3e0f5bb44f07aed8b819b177950f": {
          "model_module": "@jupyter-widgets/base",
          "model_name": "LayoutModel",
          "model_module_version": "1.2.0",
          "state": {
            "_model_module": "@jupyter-widgets/base",
            "_model_module_version": "1.2.0",
            "_model_name": "LayoutModel",
            "_view_count": null,
            "_view_module": "@jupyter-widgets/base",
            "_view_module_version": "1.2.0",
            "_view_name": "LayoutView",
            "align_content": null,
            "align_items": null,
            "align_self": null,
            "border": null,
            "bottom": null,
            "display": null,
            "flex": null,
            "flex_flow": null,
            "grid_area": null,
            "grid_auto_columns": null,
            "grid_auto_flow": null,
            "grid_auto_rows": null,
            "grid_column": null,
            "grid_gap": null,
            "grid_row": null,
            "grid_template_areas": null,
            "grid_template_columns": null,
            "grid_template_rows": null,
            "height": null,
            "justify_content": null,
            "justify_items": null,
            "left": null,
            "margin": null,
            "max_height": null,
            "max_width": null,
            "min_height": null,
            "min_width": null,
            "object_fit": null,
            "object_position": null,
            "order": null,
            "overflow": null,
            "overflow_x": null,
            "overflow_y": null,
            "padding": null,
            "right": null,
            "top": null,
            "visibility": null,
            "width": null
          }
        },
        "211b0c4db81b489cac749b847d20e594": {
          "model_module": "@jupyter-widgets/base",
          "model_name": "LayoutModel",
          "model_module_version": "1.2.0",
          "state": {
            "_model_module": "@jupyter-widgets/base",
            "_model_module_version": "1.2.0",
            "_model_name": "LayoutModel",
            "_view_count": null,
            "_view_module": "@jupyter-widgets/base",
            "_view_module_version": "1.2.0",
            "_view_name": "LayoutView",
            "align_content": null,
            "align_items": null,
            "align_self": null,
            "border": null,
            "bottom": null,
            "display": null,
            "flex": null,
            "flex_flow": null,
            "grid_area": null,
            "grid_auto_columns": null,
            "grid_auto_flow": null,
            "grid_auto_rows": null,
            "grid_column": null,
            "grid_gap": null,
            "grid_row": null,
            "grid_template_areas": null,
            "grid_template_columns": null,
            "grid_template_rows": null,
            "height": null,
            "justify_content": null,
            "justify_items": null,
            "left": null,
            "margin": null,
            "max_height": null,
            "max_width": null,
            "min_height": null,
            "min_width": null,
            "object_fit": null,
            "object_position": null,
            "order": null,
            "overflow": null,
            "overflow_x": null,
            "overflow_y": null,
            "padding": null,
            "right": null,
            "top": null,
            "visibility": null,
            "width": null
          }
        },
        "5e9315680a404b20ac928d358d6ecdb6": {
          "model_module": "@jupyter-widgets/controls",
          "model_name": "DescriptionStyleModel",
          "model_module_version": "1.5.0",
          "state": {
            "_model_module": "@jupyter-widgets/controls",
            "_model_module_version": "1.5.0",
            "_model_name": "DescriptionStyleModel",
            "_view_count": null,
            "_view_module": "@jupyter-widgets/base",
            "_view_module_version": "1.2.0",
            "_view_name": "StyleView",
            "description_width": ""
          }
        },
        "b3ceaf5e1c85468ca20c72ccafddd344": {
          "model_module": "@jupyter-widgets/base",
          "model_name": "LayoutModel",
          "model_module_version": "1.2.0",
          "state": {
            "_model_module": "@jupyter-widgets/base",
            "_model_module_version": "1.2.0",
            "_model_name": "LayoutModel",
            "_view_count": null,
            "_view_module": "@jupyter-widgets/base",
            "_view_module_version": "1.2.0",
            "_view_name": "LayoutView",
            "align_content": null,
            "align_items": null,
            "align_self": null,
            "border": null,
            "bottom": null,
            "display": null,
            "flex": null,
            "flex_flow": null,
            "grid_area": null,
            "grid_auto_columns": null,
            "grid_auto_flow": null,
            "grid_auto_rows": null,
            "grid_column": null,
            "grid_gap": null,
            "grid_row": null,
            "grid_template_areas": null,
            "grid_template_columns": null,
            "grid_template_rows": null,
            "height": null,
            "justify_content": null,
            "justify_items": null,
            "left": null,
            "margin": null,
            "max_height": null,
            "max_width": null,
            "min_height": null,
            "min_width": null,
            "object_fit": null,
            "object_position": null,
            "order": null,
            "overflow": null,
            "overflow_x": null,
            "overflow_y": null,
            "padding": null,
            "right": null,
            "top": null,
            "visibility": null,
            "width": null
          }
        },
        "84d0585c8ec54009b2e549c8b39479c7": {
          "model_module": "@jupyter-widgets/controls",
          "model_name": "ProgressStyleModel",
          "model_module_version": "1.5.0",
          "state": {
            "_model_module": "@jupyter-widgets/controls",
            "_model_module_version": "1.5.0",
            "_model_name": "ProgressStyleModel",
            "_view_count": null,
            "_view_module": "@jupyter-widgets/base",
            "_view_module_version": "1.2.0",
            "_view_name": "StyleView",
            "bar_color": null,
            "description_width": ""
          }
        },
        "e709b9e5c6c448969c6ea35d3d3ab640": {
          "model_module": "@jupyter-widgets/controls",
          "model_name": "VBoxModel",
          "model_module_version": "1.5.0",
          "state": {
            "_dom_classes": [],
            "_model_module": "@jupyter-widgets/controls",
            "_model_module_version": "1.5.0",
            "_model_name": "VBoxModel",
            "_view_count": null,
            "_view_module": "@jupyter-widgets/controls",
            "_view_module_version": "1.5.0",
            "_view_name": "VBoxView",
            "box_style": "",
            "children": [
              "IPY_MODEL_005114c24f5b4ef995c691b33ef0f6b5",
              "IPY_MODEL_ac179b6dd9aa48889e4dc49777d0ae36"
            ],
            "layout": "IPY_MODEL_c014cfd7eca847d38d6d18687ff233cd"
          }
        },
        "005114c24f5b4ef995c691b33ef0f6b5": {
          "model_module": "@jupyter-widgets/controls",
          "model_name": "LabelModel",
          "model_module_version": "1.5.0",
          "state": {
            "_dom_classes": [],
            "_model_module": "@jupyter-widgets/controls",
            "_model_module_version": "1.5.0",
            "_model_name": "LabelModel",
            "_view_count": null,
            "_view_module": "@jupyter-widgets/controls",
            "_view_module_version": "1.5.0",
            "_view_name": "LabelView",
            "description": "",
            "description_tooltip": null,
            "layout": "IPY_MODEL_24b62381fa4243ddb6a1a32f7dd2a93d",
            "placeholder": "​",
            "style": "IPY_MODEL_669bf57a43614817996fa3123ffe5251",
            "value": "0.285 MB of 0.285 MB uploaded (0.000 MB deduped)\r"
          }
        },
        "ac179b6dd9aa48889e4dc49777d0ae36": {
          "model_module": "@jupyter-widgets/controls",
          "model_name": "FloatProgressModel",
          "model_module_version": "1.5.0",
          "state": {
            "_dom_classes": [],
            "_model_module": "@jupyter-widgets/controls",
            "_model_module_version": "1.5.0",
            "_model_name": "FloatProgressModel",
            "_view_count": null,
            "_view_module": "@jupyter-widgets/controls",
            "_view_module_version": "1.5.0",
            "_view_name": "ProgressView",
            "bar_style": "",
            "description": "",
            "description_tooltip": null,
            "layout": "IPY_MODEL_0079d1ba8f1845f580348a75d62e2a72",
            "max": 1,
            "min": 0,
            "orientation": "horizontal",
            "style": "IPY_MODEL_1467f5013cd84d79b1c46d193e1b1947",
            "value": 1
          }
        },
        "c014cfd7eca847d38d6d18687ff233cd": {
          "model_module": "@jupyter-widgets/base",
          "model_name": "LayoutModel",
          "model_module_version": "1.2.0",
          "state": {
            "_model_module": "@jupyter-widgets/base",
            "_model_module_version": "1.2.0",
            "_model_name": "LayoutModel",
            "_view_count": null,
            "_view_module": "@jupyter-widgets/base",
            "_view_module_version": "1.2.0",
            "_view_name": "LayoutView",
            "align_content": null,
            "align_items": null,
            "align_self": null,
            "border": null,
            "bottom": null,
            "display": null,
            "flex": null,
            "flex_flow": null,
            "grid_area": null,
            "grid_auto_columns": null,
            "grid_auto_flow": null,
            "grid_auto_rows": null,
            "grid_column": null,
            "grid_gap": null,
            "grid_row": null,
            "grid_template_areas": null,
            "grid_template_columns": null,
            "grid_template_rows": null,
            "height": null,
            "justify_content": null,
            "justify_items": null,
            "left": null,
            "margin": null,
            "max_height": null,
            "max_width": null,
            "min_height": null,
            "min_width": null,
            "object_fit": null,
            "object_position": null,
            "order": null,
            "overflow": null,
            "overflow_x": null,
            "overflow_y": null,
            "padding": null,
            "right": null,
            "top": null,
            "visibility": null,
            "width": null
          }
        },
        "24b62381fa4243ddb6a1a32f7dd2a93d": {
          "model_module": "@jupyter-widgets/base",
          "model_name": "LayoutModel",
          "model_module_version": "1.2.0",
          "state": {
            "_model_module": "@jupyter-widgets/base",
            "_model_module_version": "1.2.0",
            "_model_name": "LayoutModel",
            "_view_count": null,
            "_view_module": "@jupyter-widgets/base",
            "_view_module_version": "1.2.0",
            "_view_name": "LayoutView",
            "align_content": null,
            "align_items": null,
            "align_self": null,
            "border": null,
            "bottom": null,
            "display": null,
            "flex": null,
            "flex_flow": null,
            "grid_area": null,
            "grid_auto_columns": null,
            "grid_auto_flow": null,
            "grid_auto_rows": null,
            "grid_column": null,
            "grid_gap": null,
            "grid_row": null,
            "grid_template_areas": null,
            "grid_template_columns": null,
            "grid_template_rows": null,
            "height": null,
            "justify_content": null,
            "justify_items": null,
            "left": null,
            "margin": null,
            "max_height": null,
            "max_width": null,
            "min_height": null,
            "min_width": null,
            "object_fit": null,
            "object_position": null,
            "order": null,
            "overflow": null,
            "overflow_x": null,
            "overflow_y": null,
            "padding": null,
            "right": null,
            "top": null,
            "visibility": null,
            "width": null
          }
        },
        "669bf57a43614817996fa3123ffe5251": {
          "model_module": "@jupyter-widgets/controls",
          "model_name": "DescriptionStyleModel",
          "model_module_version": "1.5.0",
          "state": {
            "_model_module": "@jupyter-widgets/controls",
            "_model_module_version": "1.5.0",
            "_model_name": "DescriptionStyleModel",
            "_view_count": null,
            "_view_module": "@jupyter-widgets/base",
            "_view_module_version": "1.2.0",
            "_view_name": "StyleView",
            "description_width": ""
          }
        },
        "0079d1ba8f1845f580348a75d62e2a72": {
          "model_module": "@jupyter-widgets/base",
          "model_name": "LayoutModel",
          "model_module_version": "1.2.0",
          "state": {
            "_model_module": "@jupyter-widgets/base",
            "_model_module_version": "1.2.0",
            "_model_name": "LayoutModel",
            "_view_count": null,
            "_view_module": "@jupyter-widgets/base",
            "_view_module_version": "1.2.0",
            "_view_name": "LayoutView",
            "align_content": null,
            "align_items": null,
            "align_self": null,
            "border": null,
            "bottom": null,
            "display": null,
            "flex": null,
            "flex_flow": null,
            "grid_area": null,
            "grid_auto_columns": null,
            "grid_auto_flow": null,
            "grid_auto_rows": null,
            "grid_column": null,
            "grid_gap": null,
            "grid_row": null,
            "grid_template_areas": null,
            "grid_template_columns": null,
            "grid_template_rows": null,
            "height": null,
            "justify_content": null,
            "justify_items": null,
            "left": null,
            "margin": null,
            "max_height": null,
            "max_width": null,
            "min_height": null,
            "min_width": null,
            "object_fit": null,
            "object_position": null,
            "order": null,
            "overflow": null,
            "overflow_x": null,
            "overflow_y": null,
            "padding": null,
            "right": null,
            "top": null,
            "visibility": null,
            "width": null
          }
        },
        "1467f5013cd84d79b1c46d193e1b1947": {
          "model_module": "@jupyter-widgets/controls",
          "model_name": "ProgressStyleModel",
          "model_module_version": "1.5.0",
          "state": {
            "_model_module": "@jupyter-widgets/controls",
            "_model_module_version": "1.5.0",
            "_model_name": "ProgressStyleModel",
            "_view_count": null,
            "_view_module": "@jupyter-widgets/base",
            "_view_module_version": "1.2.0",
            "_view_name": "StyleView",
            "bar_color": null,
            "description_width": ""
          }
        },
        "a94aff14a237429aa4d6331d90a21a4e": {
          "model_module": "@jupyter-widgets/controls",
          "model_name": "VBoxModel",
          "model_module_version": "1.5.0",
          "state": {
            "_dom_classes": [],
            "_model_module": "@jupyter-widgets/controls",
            "_model_module_version": "1.5.0",
            "_model_name": "VBoxModel",
            "_view_count": null,
            "_view_module": "@jupyter-widgets/controls",
            "_view_module_version": "1.5.0",
            "_view_name": "VBoxView",
            "box_style": "",
            "children": [
              "IPY_MODEL_2943187f9d47408e8b9028ffffcb60a5",
              "IPY_MODEL_cb51c920eee140e58de8a5bd532df741"
            ],
            "layout": "IPY_MODEL_a03597bb97b34befaa4dbea16b97c78f"
          }
        },
        "2943187f9d47408e8b9028ffffcb60a5": {
          "model_module": "@jupyter-widgets/controls",
          "model_name": "LabelModel",
          "model_module_version": "1.5.0",
          "state": {
            "_dom_classes": [],
            "_model_module": "@jupyter-widgets/controls",
            "_model_module_version": "1.5.0",
            "_model_name": "LabelModel",
            "_view_count": null,
            "_view_module": "@jupyter-widgets/controls",
            "_view_module_version": "1.5.0",
            "_view_name": "LabelView",
            "description": "",
            "description_tooltip": null,
            "layout": "IPY_MODEL_e80b9f6b420348c0aba89cf8ff5983cc",
            "placeholder": "​",
            "style": "IPY_MODEL_7c99869fed204be2b04e0d0e66a623b0",
            "value": "0.024 MB of 0.024 MB uploaded (0.000 MB deduped)\r"
          }
        },
        "cb51c920eee140e58de8a5bd532df741": {
          "model_module": "@jupyter-widgets/controls",
          "model_name": "FloatProgressModel",
          "model_module_version": "1.5.0",
          "state": {
            "_dom_classes": [],
            "_model_module": "@jupyter-widgets/controls",
            "_model_module_version": "1.5.0",
            "_model_name": "FloatProgressModel",
            "_view_count": null,
            "_view_module": "@jupyter-widgets/controls",
            "_view_module_version": "1.5.0",
            "_view_name": "ProgressView",
            "bar_style": "",
            "description": "",
            "description_tooltip": null,
            "layout": "IPY_MODEL_fd1f3fff17c7432895a8913c9bf67bc7",
            "max": 1,
            "min": 0,
            "orientation": "horizontal",
            "style": "IPY_MODEL_98540c5fcd1741918973a053fa7dc1eb",
            "value": 1
          }
        },
        "a03597bb97b34befaa4dbea16b97c78f": {
          "model_module": "@jupyter-widgets/base",
          "model_name": "LayoutModel",
          "model_module_version": "1.2.0",
          "state": {
            "_model_module": "@jupyter-widgets/base",
            "_model_module_version": "1.2.0",
            "_model_name": "LayoutModel",
            "_view_count": null,
            "_view_module": "@jupyter-widgets/base",
            "_view_module_version": "1.2.0",
            "_view_name": "LayoutView",
            "align_content": null,
            "align_items": null,
            "align_self": null,
            "border": null,
            "bottom": null,
            "display": null,
            "flex": null,
            "flex_flow": null,
            "grid_area": null,
            "grid_auto_columns": null,
            "grid_auto_flow": null,
            "grid_auto_rows": null,
            "grid_column": null,
            "grid_gap": null,
            "grid_row": null,
            "grid_template_areas": null,
            "grid_template_columns": null,
            "grid_template_rows": null,
            "height": null,
            "justify_content": null,
            "justify_items": null,
            "left": null,
            "margin": null,
            "max_height": null,
            "max_width": null,
            "min_height": null,
            "min_width": null,
            "object_fit": null,
            "object_position": null,
            "order": null,
            "overflow": null,
            "overflow_x": null,
            "overflow_y": null,
            "padding": null,
            "right": null,
            "top": null,
            "visibility": null,
            "width": null
          }
        },
        "e80b9f6b420348c0aba89cf8ff5983cc": {
          "model_module": "@jupyter-widgets/base",
          "model_name": "LayoutModel",
          "model_module_version": "1.2.0",
          "state": {
            "_model_module": "@jupyter-widgets/base",
            "_model_module_version": "1.2.0",
            "_model_name": "LayoutModel",
            "_view_count": null,
            "_view_module": "@jupyter-widgets/base",
            "_view_module_version": "1.2.0",
            "_view_name": "LayoutView",
            "align_content": null,
            "align_items": null,
            "align_self": null,
            "border": null,
            "bottom": null,
            "display": null,
            "flex": null,
            "flex_flow": null,
            "grid_area": null,
            "grid_auto_columns": null,
            "grid_auto_flow": null,
            "grid_auto_rows": null,
            "grid_column": null,
            "grid_gap": null,
            "grid_row": null,
            "grid_template_areas": null,
            "grid_template_columns": null,
            "grid_template_rows": null,
            "height": null,
            "justify_content": null,
            "justify_items": null,
            "left": null,
            "margin": null,
            "max_height": null,
            "max_width": null,
            "min_height": null,
            "min_width": null,
            "object_fit": null,
            "object_position": null,
            "order": null,
            "overflow": null,
            "overflow_x": null,
            "overflow_y": null,
            "padding": null,
            "right": null,
            "top": null,
            "visibility": null,
            "width": null
          }
        },
        "7c99869fed204be2b04e0d0e66a623b0": {
          "model_module": "@jupyter-widgets/controls",
          "model_name": "DescriptionStyleModel",
          "model_module_version": "1.5.0",
          "state": {
            "_model_module": "@jupyter-widgets/controls",
            "_model_module_version": "1.5.0",
            "_model_name": "DescriptionStyleModel",
            "_view_count": null,
            "_view_module": "@jupyter-widgets/base",
            "_view_module_version": "1.2.0",
            "_view_name": "StyleView",
            "description_width": ""
          }
        },
        "fd1f3fff17c7432895a8913c9bf67bc7": {
          "model_module": "@jupyter-widgets/base",
          "model_name": "LayoutModel",
          "model_module_version": "1.2.0",
          "state": {
            "_model_module": "@jupyter-widgets/base",
            "_model_module_version": "1.2.0",
            "_model_name": "LayoutModel",
            "_view_count": null,
            "_view_module": "@jupyter-widgets/base",
            "_view_module_version": "1.2.0",
            "_view_name": "LayoutView",
            "align_content": null,
            "align_items": null,
            "align_self": null,
            "border": null,
            "bottom": null,
            "display": null,
            "flex": null,
            "flex_flow": null,
            "grid_area": null,
            "grid_auto_columns": null,
            "grid_auto_flow": null,
            "grid_auto_rows": null,
            "grid_column": null,
            "grid_gap": null,
            "grid_row": null,
            "grid_template_areas": null,
            "grid_template_columns": null,
            "grid_template_rows": null,
            "height": null,
            "justify_content": null,
            "justify_items": null,
            "left": null,
            "margin": null,
            "max_height": null,
            "max_width": null,
            "min_height": null,
            "min_width": null,
            "object_fit": null,
            "object_position": null,
            "order": null,
            "overflow": null,
            "overflow_x": null,
            "overflow_y": null,
            "padding": null,
            "right": null,
            "top": null,
            "visibility": null,
            "width": null
          }
        },
        "98540c5fcd1741918973a053fa7dc1eb": {
          "model_module": "@jupyter-widgets/controls",
          "model_name": "ProgressStyleModel",
          "model_module_version": "1.5.0",
          "state": {
            "_model_module": "@jupyter-widgets/controls",
            "_model_module_version": "1.5.0",
            "_model_name": "ProgressStyleModel",
            "_view_count": null,
            "_view_module": "@jupyter-widgets/base",
            "_view_module_version": "1.2.0",
            "_view_name": "StyleView",
            "bar_color": null,
            "description_width": ""
          }
        }
      }
    }
  },
  "nbformat": 4,
  "nbformat_minor": 0
}